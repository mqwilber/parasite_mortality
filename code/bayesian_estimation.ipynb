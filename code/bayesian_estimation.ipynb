{
 "metadata": {
  "name": "",
  "signature": "sha256:9b4e500d26791139ba81ba88c279c2a20d31c26d5b50720dd77c43262f1cbc83"
 },
 "nbformat": 3,
 "nbformat_minor": 0,
 "worksheets": [
  {
   "cells": [
    {
     "cell_type": "markdown",
     "metadata": {},
     "source": [
      "### Bayesian method for estimating parasite mortality\n",
      "\n",
      "**12-04-2014**"
     ]
    },
    {
     "cell_type": "code",
     "collapsed": false,
     "input": [
      "%pylab inline\n",
      "import pymc as pm\n",
      "import pandas as pd\n",
      "import macroeco.models as mod\n",
      "from macroeco.misc import rcparams\n",
      "import scipy.optimize as opt\n",
      "from crofton_method import crofton_method\n",
      "\n",
      "# Set graphing parameters\n",
      "for key in rcparams.ggplot_rc.iterkeys():\n",
      "    plt.rcParams[key] = rcparams.ggplot_rc[key]"
     ],
     "language": "python",
     "metadata": {},
     "outputs": [
      {
       "output_type": "stream",
       "stream": "stdout",
       "text": [
        "Populating the interactive namespace from numpy and matplotlib\n"
       ]
      }
     ],
     "prompt_number": 1
    },
    {
     "cell_type": "code",
     "collapsed": false,
     "input": [
      "def nbd_fixed_mean(data, mean):\n",
      "    \n",
      "    loglike = lambda k: -np.sum(mod.nbinom.logpmf(data, mean, k))\n",
      "    return opt.fmin(loglike, 1, disp=0)[0]"
     ],
     "language": "python",
     "metadata": {},
     "outputs": [],
     "prompt_number": 2
    },
    {
     "cell_type": "markdown",
     "metadata": {},
     "source": [
      "There are three parameters in this model\n",
      "\n",
      "1. $\\tau$ : The truncation threshold for the initial negative binomial fit\n",
      "2. $a$ : Logistic Regresssion parameter\n",
      "3. $b$ : Logistic Regression parameter"
     ]
    },
    {
     "cell_type": "code",
     "collapsed": false,
     "input": [
      "# Load in Raccoon Data and calc some basic info\n",
      "rc_data = pd.read_csv(\"../data/worm_data.csv\")\n",
      "worms = np.array(rc_data['adBPtot'])\n",
      "num_hosts = len(worms)\n",
      "max_worms = np.max(worms)\n",
      "\n",
      "# tau = pm.Uniform(\"tau\", 1, 120, value=20.)\n",
      "tau=120\n",
      "\n",
      "# 1. Truncate data and fit negative binomial with fixed mean\n",
      "# trun_data = worms[worms < tau]\n",
      "# mu = np.mean(worms)\n",
      "# k = nbd_fixed_mean(trun_data, mu)\n",
      "\n",
      "# Use Crofton Method to truncate data\n",
      "(N, mu, k), obs, pred, split = crofton_method(worms, [0, 5, 10, 15, 21])\n",
      "\n",
      "# 2. Bin empirical data and theoretical data\n",
      "empirical_binned = pd.DataFrame(pd.Series(worms).value_counts())\n",
      "empirical_binned.columns = [\"emp\"]\n",
      "theor_data = np.round(mod.nbinom.pmf(np.arange(0, max_worms + 1), mu, k) * num_hosts, decimals=0)\n",
      "theor_binned = pd.DataFrame(theor_data, columns=[\"pred\"])\n",
      "\n",
      "# 3. Set emp equal to or less than pred and drop zeros.\n",
      "all_data = theor_binned.join(empirical_binned)\n",
      "ind = all_data['emp'].isnull()\n",
      "all_data['emp'][ind] = 0\n",
      "\n",
      "# Drop if pred is 0\n",
      "all_data = all_data[all_data['pred'] != 0]\n",
      "\n",
      "ind = all_data['emp'] > all_data['pred']\n",
      "all_data['emp'][ind] = all_data['pred'][ind]\n",
      "all_data_nz = all_data.ix[all_data.index[1:]] # drop zeros\n",
      "all_data_no  = all_data_nz#all_data_nz[all_data_nz['pred'] != 1]\n",
      "\n",
      "#all_data_nz['emp'].ix[1] = all_data_nz['pred'].ix[1]\n",
      "worm_vals = np.array(all_data_no.index).astype(float)"
     ],
     "language": "python",
     "metadata": {},
     "outputs": [
      {
       "output_type": "stream",
       "stream": "stdout",
       "text": [
        "Optimization terminated successfully.\n",
        "         Current function value: 24.920897\n",
        "         Iterations: 79\n",
        "         Function evaluations: 135\n"
       ]
      }
     ],
     "prompt_number": 10
    },
    {
     "cell_type": "code",
     "collapsed": false,
     "input": [
      "all_data_no"
     ],
     "language": "python",
     "metadata": {},
     "outputs": [
      {
       "html": [
        "<div style=\"max-height:1000px;max-width:1500px;overflow:auto;\">\n",
        "<table border=\"1\" class=\"dataframe\">\n",
        "  <thead>\n",
        "    <tr style=\"text-align: right;\">\n",
        "      <th></th>\n",
        "      <th>pred</th>\n",
        "      <th>emp</th>\n",
        "    </tr>\n",
        "  </thead>\n",
        "  <tbody>\n",
        "    <tr>\n",
        "      <th>1 </th>\n",
        "      <td> 11</td>\n",
        "      <td> 11</td>\n",
        "    </tr>\n",
        "    <tr>\n",
        "      <th>2 </th>\n",
        "      <td>  8</td>\n",
        "      <td>  3</td>\n",
        "    </tr>\n",
        "    <tr>\n",
        "      <th>3 </th>\n",
        "      <td>  7</td>\n",
        "      <td>  7</td>\n",
        "    </tr>\n",
        "    <tr>\n",
        "      <th>4 </th>\n",
        "      <td>  6</td>\n",
        "      <td>  4</td>\n",
        "    </tr>\n",
        "    <tr>\n",
        "      <th>5 </th>\n",
        "      <td>  5</td>\n",
        "      <td>  5</td>\n",
        "    </tr>\n",
        "    <tr>\n",
        "      <th>6 </th>\n",
        "      <td>  5</td>\n",
        "      <td>  3</td>\n",
        "    </tr>\n",
        "    <tr>\n",
        "      <th>7 </th>\n",
        "      <td>  4</td>\n",
        "      <td>  4</td>\n",
        "    </tr>\n",
        "    <tr>\n",
        "      <th>8 </th>\n",
        "      <td>  4</td>\n",
        "      <td>  3</td>\n",
        "    </tr>\n",
        "    <tr>\n",
        "      <th>9 </th>\n",
        "      <td>  4</td>\n",
        "      <td>  4</td>\n",
        "    </tr>\n",
        "    <tr>\n",
        "      <th>10</th>\n",
        "      <td>  4</td>\n",
        "      <td>  4</td>\n",
        "    </tr>\n",
        "    <tr>\n",
        "      <th>11</th>\n",
        "      <td>  3</td>\n",
        "      <td>  3</td>\n",
        "    </tr>\n",
        "    <tr>\n",
        "      <th>12</th>\n",
        "      <td>  3</td>\n",
        "      <td>  3</td>\n",
        "    </tr>\n",
        "    <tr>\n",
        "      <th>13</th>\n",
        "      <td>  3</td>\n",
        "      <td>  3</td>\n",
        "    </tr>\n",
        "    <tr>\n",
        "      <th>14</th>\n",
        "      <td>  3</td>\n",
        "      <td>  0</td>\n",
        "    </tr>\n",
        "    <tr>\n",
        "      <th>15</th>\n",
        "      <td>  3</td>\n",
        "      <td>  0</td>\n",
        "    </tr>\n",
        "    <tr>\n",
        "      <th>16</th>\n",
        "      <td>  2</td>\n",
        "      <td>  1</td>\n",
        "    </tr>\n",
        "    <tr>\n",
        "      <th>17</th>\n",
        "      <td>  2</td>\n",
        "      <td>  2</td>\n",
        "    </tr>\n",
        "    <tr>\n",
        "      <th>18</th>\n",
        "      <td>  2</td>\n",
        "      <td>  2</td>\n",
        "    </tr>\n",
        "    <tr>\n",
        "      <th>19</th>\n",
        "      <td>  2</td>\n",
        "      <td>  2</td>\n",
        "    </tr>\n",
        "    <tr>\n",
        "      <th>20</th>\n",
        "      <td>  2</td>\n",
        "      <td>  2</td>\n",
        "    </tr>\n",
        "    <tr>\n",
        "      <th>21</th>\n",
        "      <td>  2</td>\n",
        "      <td>  2</td>\n",
        "    </tr>\n",
        "    <tr>\n",
        "      <th>22</th>\n",
        "      <td>  2</td>\n",
        "      <td>  1</td>\n",
        "    </tr>\n",
        "    <tr>\n",
        "      <th>23</th>\n",
        "      <td>  2</td>\n",
        "      <td>  1</td>\n",
        "    </tr>\n",
        "    <tr>\n",
        "      <th>24</th>\n",
        "      <td>  2</td>\n",
        "      <td>  1</td>\n",
        "    </tr>\n",
        "    <tr>\n",
        "      <th>25</th>\n",
        "      <td>  2</td>\n",
        "      <td>  2</td>\n",
        "    </tr>\n",
        "    <tr>\n",
        "      <th>26</th>\n",
        "      <td>  2</td>\n",
        "      <td>  2</td>\n",
        "    </tr>\n",
        "  </tbody>\n",
        "</table>\n",
        "</div>"
       ],
       "metadata": {},
       "output_type": "pyout",
       "prompt_number": 5,
       "text": [
        "    pred  emp\n",
        "1     11   11\n",
        "2      8    3\n",
        "3      7    7\n",
        "4      6    4\n",
        "5      5    5\n",
        "6      5    3\n",
        "7      4    4\n",
        "8      4    3\n",
        "9      4    4\n",
        "10     4    4\n",
        "11     3    3\n",
        "12     3    3\n",
        "13     3    3\n",
        "14     3    0\n",
        "15     3    0\n",
        "16     2    1\n",
        "17     2    2\n",
        "18     2    2\n",
        "19     2    2\n",
        "20     2    2\n",
        "21     2    2\n",
        "22     2    1\n",
        "23     2    1\n",
        "24     2    1\n",
        "25     2    2\n",
        "26     2    2"
       ]
      }
     ],
     "prompt_number": 5
    },
    {
     "cell_type": "code",
     "collapsed": false,
     "input": [
      "#tau = pm.DiscreteUniform(\"tau\", 1, 120, value=20.)\n",
      "#tau=120\n",
      "\n",
      "# Uninformative priors on a and b parameters\n",
      "a = pm.Normal(\"a\", 0, 1e-6, value=0)\n",
      "b = pm.Normal(\"b\", 0, 1e-6, value=0)\n",
      "\n",
      "@pm.observed\n",
      "def parasite_mortality(value=worms, a=a, b=b):\n",
      "    \"\"\" Parasite maximization routine \"\"\"\n",
      "    \n",
      "    # 4. Likelihood of logistic regression\n",
      "    like = pm.binomial_like(np.array(all_data_no['emp']), np.array(all_data_no['pred']), \n",
      "                            pm.invlogit(a + np.log(worm_vals) * b))\n",
      "    \n",
      "    return like\n",
      "\n",
      "model1 = pm.Model([a, b])\n",
      "# mapit1 = pm.MAP(model1)\n",
      "# mapit1.fit()\n",
      "\n",
      "mcmc1 = pm.MCMC(model1)\n",
      "mcmc1.sample(iter=100000, burn=50000, thin=5)"
     ],
     "language": "python",
     "metadata": {},
     "outputs": [
      {
       "output_type": "stream",
       "stream": "stdout",
       "text": [
        "\r",
        " [                  2%                  ] 2562 of 100000 complete in 0.5 sec"
       ]
      },
      {
       "output_type": "stream",
       "stream": "stdout",
       "text": [
        "\r",
        " [-                 4%                  ] 4679 of 100000 complete in 1.0 sec"
       ]
      },
      {
       "output_type": "stream",
       "stream": "stdout",
       "text": [
        "\r",
        " [--                5%                  ] 5551 of 100000 complete in 1.5 sec"
       ]
      },
      {
       "output_type": "stream",
       "stream": "stdout",
       "text": [
        "\r",
        " [---               8%                  ] 8214 of 100000 complete in 2.0 sec"
       ]
      },
      {
       "output_type": "stream",
       "stream": "stdout",
       "text": [
        "\r",
        " [----             10%                  ] 10833 of 100000 complete in 2.5 sec"
       ]
      },
      {
       "output_type": "stream",
       "stream": "stdout",
       "text": [
        "\r",
        " [-----            14%                  ] 14651 of 100000 complete in 3.0 sec"
       ]
      },
      {
       "output_type": "stream",
       "stream": "stdout",
       "text": [
        "\r",
        " [-------          18%                  ] 18477 of 100000 complete in 3.5 sec"
       ]
      },
      {
       "output_type": "stream",
       "stream": "stdout",
       "text": [
        "\r",
        " [-------          20%                  ] 20534 of 100000 complete in 4.0 sec"
       ]
      },
      {
       "output_type": "stream",
       "stream": "stdout",
       "text": [
        "\r",
        " [--------         21%                  ] 21913 of 100000 complete in 4.5 sec"
       ]
      },
      {
       "output_type": "stream",
       "stream": "stdout",
       "text": [
        "\r",
        " [---------        25%                  ] 25452 of 100000 complete in 5.0 sec"
       ]
      },
      {
       "output_type": "stream",
       "stream": "stdout",
       "text": [
        "\r",
        " [----------       27%                  ] 27090 of 100000 complete in 5.5 sec"
       ]
      },
      {
       "output_type": "stream",
       "stream": "stdout",
       "text": [
        "\r",
        " [-----------      30%                  ] 30712 of 100000 complete in 6.0 sec"
       ]
      },
      {
       "output_type": "stream",
       "stream": "stdout",
       "text": [
        "\r",
        " [------------     33%                  ] 33206 of 100000 complete in 6.5 sec"
       ]
      },
      {
       "output_type": "stream",
       "stream": "stdout",
       "text": [
        "\r",
        " [--------------   37%                  ] 37108 of 100000 complete in 7.0 sec"
       ]
      },
      {
       "output_type": "stream",
       "stream": "stdout",
       "text": [
        "\r",
        " [---------------  41%                  ] 41009 of 100000 complete in 7.5 sec"
       ]
      },
      {
       "output_type": "stream",
       "stream": "stdout",
       "text": [
        "\r",
        " [-----------------44%                  ] 44859 of 100000 complete in 8.0 sec"
       ]
      },
      {
       "output_type": "stream",
       "stream": "stdout",
       "text": [
        "\r",
        " [-----------------48%                  ] 48776 of 100000 complete in 8.5 sec"
       ]
      },
      {
       "output_type": "stream",
       "stream": "stdout",
       "text": [
        "\r",
        " [-----------------52%                  ] 52589 of 100000 complete in 9.0 sec"
       ]
      },
      {
       "output_type": "stream",
       "stream": "stdout",
       "text": [
        "\r",
        " [-----------------56%-                 ] 56329 of 100000 complete in 9.5 sec"
       ]
      },
      {
       "output_type": "stream",
       "stream": "stdout",
       "text": [
        "\r",
        " [-----------------60%--                ] 60088 of 100000 complete in 10.0 sec"
       ]
      },
      {
       "output_type": "stream",
       "stream": "stdout",
       "text": [
        "\r",
        " [-----------------63%----              ] 63845 of 100000 complete in 10.5 sec"
       ]
      },
      {
       "output_type": "stream",
       "stream": "stdout",
       "text": [
        "\r",
        " [-----------------67%-----             ] 67596 of 100000 complete in 11.0 sec"
       ]
      },
      {
       "output_type": "stream",
       "stream": "stdout",
       "text": [
        "\r",
        " [-----------------71%-------           ] 71358 of 100000 complete in 11.5 sec"
       ]
      },
      {
       "output_type": "stream",
       "stream": "stdout",
       "text": [
        "\r",
        " [-----------------75%--------          ] 75135 of 100000 complete in 12.0 sec"
       ]
      },
      {
       "output_type": "stream",
       "stream": "stdout",
       "text": [
        "\r",
        " [-----------------78%---------         ] 78900 of 100000 complete in 12.5 sec"
       ]
      },
      {
       "output_type": "stream",
       "stream": "stdout",
       "text": [
        "\r",
        " [-----------------80%----------        ] 80764 of 100000 complete in 13.0 sec"
       ]
      },
      {
       "output_type": "stream",
       "stream": "stdout",
       "text": [
        "\r",
        " [-----------------82%-----------       ] 82292 of 100000 complete in 13.5 sec"
       ]
      },
      {
       "output_type": "stream",
       "stream": "stdout",
       "text": [
        "\r",
        " [-----------------83%-----------       ] 83542 of 100000 complete in 14.0 sec"
       ]
      },
      {
       "output_type": "stream",
       "stream": "stdout",
       "text": [
        "\r",
        " [-----------------85%------------      ] 85216 of 100000 complete in 14.5 sec"
       ]
      },
      {
       "output_type": "stream",
       "stream": "stdout",
       "text": [
        "\r",
        " [-----------------86%------------      ] 86311 of 100000 complete in 15.0 sec"
       ]
      },
      {
       "output_type": "stream",
       "stream": "stdout",
       "text": [
        "\r",
        " [-----------------89%--------------    ] 89797 of 100000 complete in 15.5 sec"
       ]
      },
      {
       "output_type": "stream",
       "stream": "stdout",
       "text": [
        "\r",
        " [-----------------92%---------------   ] 92215 of 100000 complete in 16.0 sec"
       ]
      },
      {
       "output_type": "stream",
       "stream": "stdout",
       "text": [
        "\r",
        " [-----------------95%----------------  ] 95951 of 100000 complete in 16.5 sec"
       ]
      },
      {
       "output_type": "stream",
       "stream": "stdout",
       "text": [
        "\r",
        " [-----------------99%----------------- ] 99650 of 100000 complete in 17.0 sec"
       ]
      },
      {
       "output_type": "stream",
       "stream": "stdout",
       "text": [
        "\r",
        " [-----------------100%-----------------] 100000 of 100000 complete in 17.1 sec"
       ]
      }
     ],
     "prompt_number": 11
    },
    {
     "cell_type": "code",
     "collapsed": false,
     "input": [
      "mcmc1.trace('b').stats()"
     ],
     "language": "python",
     "metadata": {},
     "outputs": [
      {
       "metadata": {},
       "output_type": "pyout",
       "prompt_number": 7,
       "text": [
        "{'95% HPD interval': array([-0.71183109,  0.31767392]),\n",
        " 'mc error': 0.0082097909255263342,\n",
        " 'mean': -0.19696656223193196,\n",
        " 'n': 10000,\n",
        " 'quantiles': {2.5: -0.74149348281824845,\n",
        "  25: -0.36560188905218671,\n",
        "  50: -0.18587863517034572,\n",
        "  75: -0.022905807109631512,\n",
        "  97.5: 0.29815767058980519},\n",
        " 'standard deviation': 0.26072582944960454}"
       ]
      }
     ],
     "prompt_number": 7
    },
    {
     "cell_type": "code",
     "collapsed": false,
     "input": [
      "pm.Matplot.plot(mcmc1)"
     ],
     "language": "python",
     "metadata": {},
     "outputs": [
      {
       "output_type": "stream",
       "stream": "stdout",
       "text": [
        "Plotting b\n",
        "Plotting"
       ]
      },
      {
       "output_type": "stream",
       "stream": "stdout",
       "text": [
        " a\n"
       ]
      },
      {
       "metadata": {},
       "output_type": "display_data",
       "png": "[encoded data removed]",
       "text": [
        "<matplotlib.figure.Figure at 0x10c97f910>"
       ]
      },
      {
       "metadata": {},
       "output_type": "display_data",
       "png": "[encoded data removed]",
       "text": [
        "<matplotlib.figure.Figure at 0x10bbcc950>"
       ]
      }
     ],
     "prompt_number": 12
    },
    {
     "cell_type": "code",
     "collapsed": false,
     "input": [
      "plot(log(np.array(all_data_nz.index).astype(float)), all_data_nz['emp'] / all_data_nz['pred'], 'o')\n",
      "vals = np.linspace(0.01, 4.5, 100)\n",
      "plot(vals, pm.invlogit(mcmc1.trace('a').stats()['mean'] + mcmc1.trace('b').stats()['mean'] * vals))\n",
      "ylim(-0.1, 1.1)"
     ],
     "language": "python",
     "metadata": {},
     "outputs": [
      {
       "metadata": {},
       "output_type": "pyout",
       "prompt_number": 13,
       "text": [
        "(-0.1, 1.1)"
       ]
      },
      {
       "metadata": {},
       "output_type": "display_data",
       "png": "[encoded data removed]",
       "text": [
        "<matplotlib.figure.Figure at 0x10bfb0550>"
       ]
      }
     ],
     "prompt_number": 13
    }
   ],
   "metadata": {}
  }
 ]
}