{
 "metadata": {
  "name": "",
  "signature": "sha256:3a973ef6e05b6409e574d78ba3247a84a7f35917d2dcadd89ca2e6f6aaba2e22"
 },
 "nbformat": 3,
 "nbformat_minor": 0,
 "worksheets": [
  {
   "cells": [
    {
     "cell_type": "markdown",
     "metadata": {},
     "source": [
      "Notebook holds some old results, code and plots from the parasite-induced mortality methods.\n"
     ]
    },
    {
     "cell_type": "code",
     "collapsed": false,
     "input": [
      "import crofton_method as cfm\n",
      "import pandas as pd\n",
      "reload(cfm)a\n",
      "%pylab inline"
     ],
     "language": "python",
     "metadata": {},
     "outputs": []
    },
    {
     "cell_type": "code",
     "collapsed": false,
     "input": [
      "def plot_res(plot_vals, N_avgs, a, b, drop_nonconverge=True):\n",
      "    \"\"\" Makes a boxplot of the simulation results \"\"\"\n",
      "\n",
      "    # Plot plot_vals\n",
      "    fig, axes = plt.subplots(3, 3, figsize=(12, 10))\n",
      "    axes = axes.ravel()\n",
      "\n",
      "    # Remove ticks on axes\n",
      "    for ax in axes:\n",
      "        ax.xaxis.tick_bottom()\n",
      "        ax.yaxis.tick_left()\n",
      "\n",
      "    labels = ['Alt. Method', 'Adjei Method']\n",
      "    \n",
      "    LD50s = []\n",
      "    for i, ax in enumerate(axes):\n",
      "\n",
      "        ax.set_ylim(0, plot_vals[i][0][0] * a + 2)\n",
      "        ax.hlines(a * plot_vals[i][0][0], 0, 5, linestyle='--')\n",
      "        w2_a = np.array(zip(*plot_vals[i][1])[0])\n",
      "        w2_b = np.array(zip(*plot_vals[i][1])[1])\n",
      "        \n",
      "        w2_ind_b = np.bitwise_or(w2_b == 0, w2_b == -30.)\n",
      "        w2_ind_a = np.bitwise_or(w2_a == 0, w2_a == 100.)\n",
      "        w2_total_ind = ~np.bitwise_or(w2_ind_b, w2_ind_a)\n",
      "        \n",
      "        adjei_a = np.array(zip(*plot_vals[i][2])[0])\n",
      "        adjei_b = np.array(zip(*plot_vals[i][2])[1])\n",
      "        \n",
      "        LD50s.append((np.median(np.exp(w2_a[w2_total_ind] / np.abs(w2_b[w2_total_ind]))), \\\n",
      "                              np.median(np.exp(adjei_a / np.abs(adjei_b)))))\n",
      "\n",
      "        ax.boxplot([w2_a[w2_total_ind], adjei_a], meanline=True, showmeans=True, showfliers=False)\n",
      "        #ax.xaxis.set_ticklabels(labels)\n",
      "        ax.set_title(\"a = %.2f, b = %.2f\" % (a * plot_vals[i][0][0], b * plot_vals[i][0][0])) #str(plot_vals[i][0]) + \", N_avg = %.2f\" % N_avgs[i], size=10)\n",
      "        ax.set_ylabel(\"Estimated a value\")\n",
      "        ax.text(0.5, 0.95, \"k = %.2f\" % plot_vals[i][0][1], horizontalalignment=\"center\", \n",
      "                            transform=ax.transAxes)\n",
      "\n",
      "        tax = ax.twinx()\n",
      "        bp = tax.boxplot([w2_b[w2_total_ind], adjei_b], showfliers=False)\n",
      "        \n",
      "        for box in bp['boxes']:\n",
      "        # change outline color\n",
      "            box.set( color='black', linewidth=1)\n",
      "        \n",
      "        for whisker in bp['whiskers']:\n",
      "            whisker.set(color='grey', linewidth=1)\n",
      "        \n",
      "        tax.set_ylim(plot_vals[i][0][0] * b + -1, 0)\n",
      "        tax.hlines(b * plot_vals[i][0][0], 0, 5, linestyle=\":\")\n",
      "        tax.set_ylabel(\"Estimated b value\")\n",
      "        ax.xaxis.set_ticklabels(labels)\n",
      "\n",
      "    plt.tight_layout()\n",
      "    return LD50s"
     ],
     "language": "python",
     "metadata": {},
     "outputs": []
    },
    {
     "cell_type": "code",
     "collapsed": false,
     "input": [
      "# Simulate data for best-case-scenario1.  Fixed LD50 and N_p\n",
      "mult = [1, 2, 4]\n",
      "a = 5 * 1\n",
      "b = -2.5 * 1\n",
      "ks = [1, 0.5, 0.1]\n",
      "mu = 10\n",
      "N = 100000\n",
      "SAMP = 100"
     ],
     "language": "python",
     "metadata": {},
     "outputs": []
    },
    {
     "cell_type": "code",
     "collapsed": false,
     "input": [
      "# Run the simulation and fitting procedure\n",
      "plot_vals2 = []\n",
      "N_avgs2 = []  # Holds the average number of hosts in each fittting\n",
      "\n",
      "for k in ks:\n",
      "    for j in mult:\n",
      "        \n",
      "        ld50_k_combo = (j, k)\n",
      "        adjei_params = []\n",
      "        w2_params = []\n",
      "        \n",
      "        Ns = []\n",
      "        for i in xrange(SAMP):\n",
      "\n",
      "            alive, initial, td = cfm.get_alive_and_dead(N, a * j, b * j, k, mu) \n",
      "            Ns.append(len(alive))\n",
      "            \n",
      "            try:\n",
      "                w2_params.append(cfm.w2_method(alive, [0, 1, 2, 3, 4, 5, 6, 7, 8, 9, np.max(alive) + 0.9], [0, 1, 2, 3, 4, 4.9], no_bins=False, \n",
      "                                  crof_params=(N, mu, k))[0][-2:])\n",
      "            except:\n",
      "                pass\n",
      "                \n",
      "            adjei_params.append(cfm.adjei_fitting_method(alive, [[0, 1, 2, 3, 4, 5, 6, np.max(alive) + 1.9]], [0, 1, 2, 3, 4, 4.9], no_bins=True, \n",
      "                                  crof_params=(N, mu, k))[0][-2:])\n",
      "        \n",
      "        N_avgs2.append(np.mean(Ns))\n",
      "        plot_vals2.append((ld50_k_combo, w2_params, adjei_params))"
     ],
     "language": "python",
     "metadata": {},
     "outputs": []
    },
    {
     "cell_type": "code",
     "collapsed": false,
     "input": [],
     "language": "python",
     "metadata": {},
     "outputs": []
    }
   ],
   "metadata": {}
  }
 ]
}