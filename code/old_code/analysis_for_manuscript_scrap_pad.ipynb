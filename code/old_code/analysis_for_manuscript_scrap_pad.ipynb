{
 "cells": [
  {
   "cell_type": "markdown",
   "metadata": {},
   "source": [
    "## Analyses for PIHM manscript: Scrap pad\n",
    "\n",
    "Date: April 19, 2015"
   ]
  },
  {
   "cell_type": "code",
   "execution_count": 93,
   "metadata": {
    "collapsed": false
   },
   "outputs": [
    {
     "name": "stdout",
     "output_type": "stream",
     "text": [
      "Populating the interactive namespace from numpy and matplotlib\n"
     ]
    }
   ],
   "source": [
    "%pylab inline\n",
    "import pihm_methods as pm\n",
    "import pandas as pd\n",
    "plt.style.use('ggplot')"
   ]
  },
  {
   "cell_type": "code",
   "execution_count": 3,
   "metadata": {
    "collapsed": true
   },
   "outputs": [],
   "source": [
    "# Load in some amphibian parasite data\n",
    "para = pd.read_csv(\"/Users/mqwilber/Repos/regression_aggregation/data/formatted/johnson_amphib_para_data.csv\")"
   ]
  },
  {
   "cell_type": "code",
   "execution_count": 91,
   "metadata": {
    "collapsed": false
   },
   "outputs": [],
   "source": [
    "barn_data = para[para.SITE == \"BARN\"]\n",
    "psdu = barn_data[barn_data.HOSTSPECIES == \"PSRE\"]\n",
    "\n",
    "ob1 = pm.PIHM()\n",
    "ob1.set_all_params(300, 500, 1, 10, -1.8)\n",
    "ob1.data = ob1.get_pihm_samples()[0]"
   ]
  },
  {
   "cell_type": "code",
   "execution_count": 92,
   "metadata": {
    "collapsed": false
   },
   "outputs": [
    {
     "data": {
      "text/plain": [
       "array([ 110,  126,  414,  204,  441,   65,  434,  142,   45,   13,  174,\n",
       "         30,   17,  233,  167,  227,  248,    3,  116,  239,   82,  389,\n",
       "        452,  993, 1003,  164,  114,  203,  200,  110,  229,  455,  139,\n",
       "         48,  305,  135,  117,  108,  102,    3,    9,  171,    3,  156,\n",
       "         37,   12,   37,  326,   23,  138,  113,   22,  291,   91,  438,\n",
       "        154,  586,  442,  165,  493,   17,  103,  607,   97,  198,  125,\n",
       "        226,  587,  444,   34,  295,   63,   47,   81,   39,  115,   32,\n",
       "        265,  216,  225,  582,  125,  635,  393,   52,   38,  215,  275,\n",
       "        146,  277,   20,  302,   14,  850,  227,  135,  307,   12,   67,\n",
       "         28,  301,  586,  384,  473,   63,  212,  178,   21,  304,  128,\n",
       "         89,  256,   26,   50,  352,    1,   24,   65,   85,   60,  135,\n",
       "        105,   28,  106,   98,   17,  142,  101,  116,    3,  106,  230,\n",
       "        253,   72,  386,  427,   96,  127, 1327,  119,  256,   25,   81,\n",
       "          1,  231])"
      ]
     },
     "execution_count": 92,
     "metadata": {},
     "output_type": "execute_result"
    }
   ],
   "source": [
    "\n",
    "ob1.data"
   ]
  },
  {
   "cell_type": "code",
   "execution_count": 85,
   "metadata": {
    "collapsed": false
   },
   "outputs": [
    {
     "data": {
      "text/plain": [
       "258.67063051549979"
      ]
     },
     "execution_count": 85,
     "metadata": {},
     "output_type": "execute_result"
    }
   ],
   "source": [
    "#ob1.likelihood_method(guess=[1, -1])\n",
    "exp(5 / .9)"
   ]
  },
  {
   "cell_type": "code",
   "execution_count": 88,
   "metadata": {
    "collapsed": false
   },
   "outputs": [
    {
     "data": {
      "text/plain": [
       "10.8"
      ]
     },
     "execution_count": 88,
     "metadata": {},
     "output_type": "execute_result"
    }
   ],
   "source": [
    "3.6 * 3"
   ]
  },
  {
   "cell_type": "code",
   "execution_count": 87,
   "metadata": {
    "collapsed": false
   },
   "outputs": [
    {
     "data": {
      "text/plain": [
       "[<matplotlib.lines.Line2D at 0x10eb65fd0>,\n",
       " <matplotlib.lines.Line2D at 0x10eb73290>,\n",
       " <matplotlib.lines.Line2D at 0x10eb734d0>]"
      ]
     },
     "execution_count": 87,
     "metadata": {},
     "output_type": "execute_result"
    },
    {
     "data": {
      "image/png": "[encoded data removed]",
      "text/plain": [
       "<matplotlib.figure.Figure at 0x10ea6a550>"
      ]
     },
     "metadata": {},
     "output_type": "display_data"
    }
   ],
   "source": [
    "vals = np.linspace(0, 1000, 3000)\n",
    "y = pm.surv_prob(vals, 20*3, -3.6*3)\n",
    "y1 = pm.surv_prob(vals, 10, -1.8)\n",
    "y2 = pm.surv_prob(vals, 20, -3.6)\n",
    "plot(vals, np.array([y, y1, y2]).T)"
   ]
  }
 ],
 "metadata": {
  "kernelspec": {
   "display_name": "Python 2",
   "language": "python",
   "name": "python2"
  },
  "language_info": {
   "codemirror_mode": {
    "name": "ipython",
    "version": 2
   },
   "file_extension": ".py",
   "mimetype": "text/x-python",
   "name": "python",
   "nbconvert_exporter": "python",
   "pygments_lexer": "ipython2",
   "version": "2.7.9"
  }
 },
 "nbformat": 4,
 "nbformat_minor": 0
}
