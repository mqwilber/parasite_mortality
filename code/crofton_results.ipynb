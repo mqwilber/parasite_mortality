{
 "metadata": {
  "name": "",
  "signature": "sha256:0b3ea70e8cf1af59d9a4bfeedc7416913401b929aa039161d685d312c9447950"
 },
 "nbformat": 3,
 "nbformat_minor": 0,
 "worksheets": [
  {
   "cells": [
    {
     "cell_type": "markdown",
     "metadata": {},
     "source": [
      "# Simulation results for comparing Adjei Method and Weinstein and Wilbers alternative methods\n",
      "\n",
      "2-1-2014, Mark Wilber"
     ]
    },
    {
     "cell_type": "code",
     "collapsed": false,
     "input": [
      "import crofton_method as cfm\n",
      "import pandas as pd\n",
      "reload(cfm)\n",
      "%pylab inline"
     ],
     "language": "python",
     "metadata": {},
     "outputs": [
      {
       "output_type": "stream",
       "stream": "stdout",
       "text": [
        "Populating the interactive namespace from numpy and matplotlib\n"
       ]
      }
     ],
     "prompt_number": 1
    },
    {
     "cell_type": "markdown",
     "metadata": {},
     "source": [
      "# Scenario I: Known pre-mortality parameters"
     ]
    },
    {
     "cell_type": "markdown",
     "metadata": {},
     "source": [
      "## First Combination\n",
      "\n",
      "Looking at how our best case scenario varies with sample size given the following parameters: k = 1, a = 20, b = -10, mu=10, N_p = [300, 500, 800, 1000, 2000, 5000, 7500, 10000]"
     ]
    },
    {
     "cell_type": "code",
     "collapsed": false,
     "input": [
      "# Simulate data for best-case-scenario1.  Fixed LD50 and N_p\n",
      "a = 20\n",
      "b = -10\n",
      "k = 1\n",
      "mu = 10\n",
      "N_vals = [300, 500, 1000, 2000, 5000, 7500, 10000] # Sample size\n",
      "SAMP = 150"
     ],
     "language": "python",
     "metadata": {},
     "outputs": [],
     "prompt_number": 3
    },
    {
     "cell_type": "code",
     "collapsed": false,
     "input": [
      "# Run the simulation and fitting procedure for the first combo\n",
      "plot_vals_full_sim, N_avgs_full_sim = cfm.simulate_over_np(N_vals, mu, k, a, b, SAMP) "
     ],
     "language": "python",
     "metadata": {},
     "outputs": [
      {
       "output_type": "stream",
       "stream": "stdout",
       "text": [
        "Starting N = 300\n",
        "Starting N = 500"
       ]
      },
      {
       "output_type": "stream",
       "stream": "stdout",
       "text": [
        "\n",
        "Starting N = 1000"
       ]
      },
      {
       "output_type": "stream",
       "stream": "stdout",
       "text": [
        "\n",
        "Starting N = 2000"
       ]
      },
      {
       "output_type": "stream",
       "stream": "stdout",
       "text": [
        "\n",
        "Starting N = 5000"
       ]
      },
      {
       "output_type": "stream",
       "stream": "stdout",
       "text": [
        "\n",
        "Starting N = 7500"
       ]
      },
      {
       "output_type": "stream",
       "stream": "stdout",
       "text": [
        "\n",
        "Starting N = 10000"
       ]
      },
      {
       "output_type": "stream",
       "stream": "stdout",
       "text": [
        "\n"
       ]
      }
     ],
     "prompt_number": 4
    },
    {
     "cell_type": "code",
     "collapsed": false,
     "input": [
      "len(plot_vals_full_sim[0][1])"
     ],
     "language": "python",
     "metadata": {},
     "outputs": [
      {
       "metadata": {},
       "output_type": "pyout",
       "prompt_number": 8,
       "text": [
        "135"
       ]
      }
     ],
     "prompt_number": 8
    },
    {
     "cell_type": "code",
     "collapsed": false,
     "input": [
      "# Save the results\n",
      "pd.to_pickle(plot_vals_full_sim, \"../results/without_crofton_fit_multiple_Np.pkl\")\n",
      "pd.to_pickle(N_avgs_full_sim, \"../results/without_crofton_fit_multiple_Np_Navgs.pkl\")"
     ],
     "language": "python",
     "metadata": {},
     "outputs": [],
     "prompt_number": 9
    },
    {
     "cell_type": "code",
     "collapsed": false,
     "input": [
      "plot_vals_full_sim = pd.read_pickle(\"../results/without_crofton_fit_multiple_Npa.pkl\")\n",
      "N_avgs_full_sim = pd.read_pickle(\"../results/without_crofton_fit_multiple_Np_Navgsa.pkl\")"
     ],
     "language": "python",
     "metadata": {},
     "outputs": [],
     "prompt_number": 10
    },
    {
     "cell_type": "markdown",
     "metadata": {},
     "source": [
      "## Second combination\n",
      "\n",
      "Same simulation as the first combo except using a=10 and b=-5"
     ]
    },
    {
     "cell_type": "code",
     "collapsed": false,
     "input": [
      "# Simulate data for best-case-scenario1.  Fixed LD50 and N_p\n",
      "a = 10\n",
      "b = -5\n",
      "k = 1\n",
      "mu = 10\n",
      "N_vals = [300, 500, 1000, 2000, 5000, 7500, 10000] # Sample size\n",
      "SAMP = 150"
     ],
     "language": "python",
     "metadata": {},
     "outputs": [],
     "prompt_number": 11
    },
    {
     "cell_type": "code",
     "collapsed": false,
     "input": [
      "# Run the simulation and fitting procedure\n",
      "plot_vals_full_sim2, N_avgs_full_sim2 = cfm.simulate_over_np(N_vals, mu, k, a, b, SAMP)"
     ],
     "language": "python",
     "metadata": {},
     "outputs": [
      {
       "output_type": "stream",
       "stream": "stdout",
       "text": [
        "Starting N = 300\n",
        "Starting N = 500"
       ]
      },
      {
       "output_type": "stream",
       "stream": "stdout",
       "text": [
        "\n",
        "Starting N = 1000"
       ]
      },
      {
       "output_type": "stream",
       "stream": "stdout",
       "text": [
        "\n",
        "Starting N = 2000"
       ]
      },
      {
       "output_type": "stream",
       "stream": "stdout",
       "text": [
        "\n",
        "Starting N = 5000"
       ]
      },
      {
       "output_type": "stream",
       "stream": "stdout",
       "text": [
        "\n",
        "Starting N = 7500"
       ]
      },
      {
       "output_type": "stream",
       "stream": "stdout",
       "text": [
        "\n",
        "Starting N = 10000"
       ]
      },
      {
       "output_type": "stream",
       "stream": "stdout",
       "text": [
        "\n"
       ]
      }
     ],
     "prompt_number": 12
    },
    {
     "cell_type": "code",
     "collapsed": false,
     "input": [
      "# Save the results\n",
      "pd.to_pickle(plot_vals_full_sim2, \"../results/without_crofton_fit_multiple_Np2.pkl\")\n",
      "pd.to_pickle(N_avgs_full_sim2, \"../results/without_crofton_fit_multiple_Np_Navgs2.pkl\")"
     ],
     "language": "python",
     "metadata": {},
     "outputs": [],
     "prompt_number": 13
    },
    {
     "cell_type": "markdown",
     "metadata": {},
     "source": [
      "## Third combination\n",
      "\n",
      "Using a = 30 b = -15"
     ]
    },
    {
     "cell_type": "code",
     "collapsed": false,
     "input": [
      "a = 30\n",
      "b = -15\n",
      "k = 1\n",
      "mu = 10\n",
      "N_vals = [300, 500, 1000, 2000, 5000, 7500, 10000] # Sample size\n",
      "SAMP = 150"
     ],
     "language": "python",
     "metadata": {},
     "outputs": [],
     "prompt_number": 14
    },
    {
     "cell_type": "code",
     "collapsed": false,
     "input": [
      "# Run the simulation and fitting procedure\n",
      "plot_vals_full_sim3, N_avgs_full_sim3 = cfm.simulate_over_np(N_vals, mu, k, a, b, SAMP)"
     ],
     "language": "python",
     "metadata": {},
     "outputs": [
      {
       "output_type": "stream",
       "stream": "stdout",
       "text": [
        "Starting N = 300\n",
        "Starting N = 500"
       ]
      },
      {
       "output_type": "stream",
       "stream": "stdout",
       "text": [
        "\n",
        "Starting N = 1000"
       ]
      },
      {
       "output_type": "stream",
       "stream": "stdout",
       "text": [
        "\n",
        "Starting N = 2000"
       ]
      },
      {
       "output_type": "stream",
       "stream": "stdout",
       "text": [
        "\n",
        "Starting N = 5000"
       ]
      },
      {
       "output_type": "stream",
       "stream": "stdout",
       "text": [
        "\n",
        "Starting N = 7500"
       ]
      },
      {
       "output_type": "stream",
       "stream": "stdout",
       "text": [
        "\n",
        "Starting N = 10000"
       ]
      },
      {
       "output_type": "stream",
       "stream": "stdout",
       "text": [
        "\n"
       ]
      }
     ],
     "prompt_number": 15
    },
    {
     "cell_type": "code",
     "collapsed": false,
     "input": [
      "# Save the results\n",
      "pd.to_pickle(plot_vals_full_sim3, \"../results/without_crofton_fit_multiple_Np3.pkl\")\n",
      "pd.to_pickle(N_avgs_full_sim3, \"../results/without_crofton_fit_multiple_Np_Navgs3.pkl\")"
     ],
     "language": "python",
     "metadata": {},
     "outputs": [],
     "prompt_number": 16
    },
    {
     "cell_type": "markdown",
     "metadata": {},
     "source": [
      "### Same scenario but now with k = 0.5"
     ]
    },
    {
     "cell_type": "code",
     "collapsed": false,
     "input": [
      "# Simulate data for best-case-scenario1.  Fixed LD50 and N_p\n",
      "a = 20\n",
      "b = -10\n",
      "k = 0.5\n",
      "mu = 10\n",
      "N_vals = [300, 500, 1000, 2000, 5000, 7500, 10000] # Sample size\n",
      "SAMP = 150"
     ],
     "language": "python",
     "metadata": {},
     "outputs": [],
     "prompt_number": 9
    },
    {
     "cell_type": "code",
     "collapsed": false,
     "input": [
      "# Run the simulation and fitting procedure for the first combo\n",
      "plot_vals_full_sim_kpoint5, N_avgs_full_sim_kpoint5 = cfm.simulate_over_np(N_vals, mu, k, a, b, SAMP) "
     ],
     "language": "python",
     "metadata": {},
     "outputs": [
      {
       "output_type": "stream",
       "stream": "stdout",
       "text": [
        "Starting N = 300\n",
        "Starting N = 500"
       ]
      },
      {
       "output_type": "stream",
       "stream": "stdout",
       "text": [
        "\n",
        "Starting N = 1000"
       ]
      },
      {
       "output_type": "stream",
       "stream": "stdout",
       "text": [
        "\n",
        "Starting N = 2000"
       ]
      },
      {
       "output_type": "stream",
       "stream": "stdout",
       "text": [
        "\n",
        "Starting N = 5000"
       ]
      },
      {
       "output_type": "stream",
       "stream": "stdout",
       "text": [
        "\n",
        "Starting N = 7500"
       ]
      },
      {
       "output_type": "stream",
       "stream": "stdout",
       "text": [
        "\n",
        "Starting N = 10000"
       ]
      },
      {
       "output_type": "stream",
       "stream": "stdout",
       "text": [
        "\n"
       ]
      }
     ],
     "prompt_number": 10
    },
    {
     "cell_type": "code",
     "collapsed": false,
     "input": [
      "# Save the results\n",
      "pd.to_pickle(plot_vals_full_sim_kpoint5, \"../results/without_crofton_fit_multiple_Np_kpoint5_1.pkl\")\n",
      "pd.to_pickle(N_avgs_full_sim_kpoint5, \"../results/without_crofton_fit_multiple_Np_Navgs_kpoint5_1.pkl\")"
     ],
     "language": "python",
     "metadata": {},
     "outputs": [],
     "prompt_number": 11
    },
    {
     "cell_type": "code",
     "collapsed": false,
     "input": [
      "# Simulate data for best-case-scenario1.  Fixed LD50 and N_p\n",
      "a = 10\n",
      "b = -5\n",
      "k = 0.5\n",
      "mu = 10\n",
      "N_vals = [300, 500, 1000, 2000, 5000, 7500, 10000] # Sample size\n",
      "SAMP = 150"
     ],
     "language": "python",
     "metadata": {},
     "outputs": [],
     "prompt_number": 3
    },
    {
     "cell_type": "code",
     "collapsed": false,
     "input": [
      "# Run the simulation and fitting procedure for the first combo\n",
      "plot_vals_full_sim_kpoint5_2, N_avgs_full_sim_kpoint5_2 = cfm.simulate_over_np(N_vals, mu, k, a, b, SAMP) "
     ],
     "language": "python",
     "metadata": {},
     "outputs": [
      {
       "output_type": "stream",
       "stream": "stdout",
       "text": [
        "Starting N = 300\n",
        "Starting N = 500"
       ]
      },
      {
       "output_type": "stream",
       "stream": "stdout",
       "text": [
        "\n",
        "Starting N = 1000"
       ]
      },
      {
       "output_type": "stream",
       "stream": "stdout",
       "text": [
        "\n",
        "Starting N = 2000"
       ]
      },
      {
       "output_type": "stream",
       "stream": "stdout",
       "text": [
        "\n",
        "Starting N = 5000"
       ]
      },
      {
       "output_type": "stream",
       "stream": "stdout",
       "text": [
        "\n",
        "Starting N = 7500"
       ]
      },
      {
       "output_type": "stream",
       "stream": "stdout",
       "text": [
        "\n",
        "Starting N = 10000"
       ]
      },
      {
       "output_type": "stream",
       "stream": "stdout",
       "text": [
        "\n"
       ]
      }
     ],
     "prompt_number": 4
    },
    {
     "cell_type": "code",
     "collapsed": false,
     "input": [
      "# Save the results\n",
      "pd.to_pickle(plot_vals_full_sim_kpoint5_2, \"../results/without_crofton_fit_multiple_Np_kpoint5_2.pkl\")\n",
      "pd.to_pickle(N_avgs_full_sim_kpoint5_2, \"../results/without_crofton_fit_multiple_Np_Navgs_kpoint5_2.pkl\")"
     ],
     "language": "python",
     "metadata": {},
     "outputs": [],
     "prompt_number": 5
    },
    {
     "cell_type": "code",
     "collapsed": false,
     "input": [
      "# Simulate data for best-case-scenario1.  Fixed LD50 and N_p\n",
      "a = 30\n",
      "b = -15\n",
      "k = 0.5\n",
      "mu = 10\n",
      "N_vals = [300, 500, 1000, 2000, 5000, 7500, 10000] # Sample size\n",
      "SAMP = 150"
     ],
     "language": "python",
     "metadata": {},
     "outputs": [],
     "prompt_number": 6
    },
    {
     "cell_type": "code",
     "collapsed": false,
     "input": [
      "# Run the simulation and fitting procedure for the first combo\n",
      "plot_vals_full_sim_kpoint5_3, N_avgs_full_sim_kpoint5_3 = cfm.simulate_over_np(N_vals, mu, k, a, b, SAMP) "
     ],
     "language": "python",
     "metadata": {},
     "outputs": [
      {
       "output_type": "stream",
       "stream": "stdout",
       "text": [
        "Starting N = 300\n",
        "Starting N = 500"
       ]
      },
      {
       "output_type": "stream",
       "stream": "stdout",
       "text": [
        "\n",
        "Starting N = 1000"
       ]
      },
      {
       "output_type": "stream",
       "stream": "stdout",
       "text": [
        "\n",
        "Starting N = 2000"
       ]
      },
      {
       "output_type": "stream",
       "stream": "stdout",
       "text": [
        "\n",
        "Starting N = 5000"
       ]
      },
      {
       "output_type": "stream",
       "stream": "stdout",
       "text": [
        "\n",
        "Starting N = 7500"
       ]
      },
      {
       "output_type": "stream",
       "stream": "stdout",
       "text": [
        "\n",
        "Starting N = 10000"
       ]
      },
      {
       "output_type": "stream",
       "stream": "stdout",
       "text": [
        "\n"
       ]
      }
     ],
     "prompt_number": 7
    },
    {
     "cell_type": "code",
     "collapsed": false,
     "input": [
      "# Save the results\n",
      "pd.to_pickle(plot_vals_full_sim_kpoint5_3, \"../results/without_crofton_fit_multiple_Np_kpoint5_3.pkl\")\n",
      "pd.to_pickle(N_avgs_full_sim_kpoint5_3, \"../results/without_crofton_fit_multiple_Np_Navgs_kpoint5_3.pkl\")"
     ],
     "language": "python",
     "metadata": {},
     "outputs": [],
     "prompt_number": 8
    },
    {
     "cell_type": "markdown",
     "metadata": {},
     "source": [
      "## Same scenario but with k = 0.1"
     ]
    },
    {
     "cell_type": "code",
     "collapsed": false,
     "input": [
      "# Simulate data for best-case-scenario1.  Fixed LD50 and N_p\n",
      "a = 20\n",
      "b = -10\n",
      "k = 0.1\n",
      "mu = 10\n",
      "N_vals = [300, 500, 1000, 2000, 5000, 7500, 10000] # Sample size\n",
      "SAMP = 150"
     ],
     "language": "python",
     "metadata": {},
     "outputs": [],
     "prompt_number": 12
    },
    {
     "cell_type": "code",
     "collapsed": false,
     "input": [
      "# Run the simulation and fitting procedure for the first combo\n",
      "plot_vals_full_sim_kpoint1, N_avgs_full_sim_kpoint1 = cfm.simulate_over_np(N_vals, mu, k, a, b, SAMP) "
     ],
     "language": "python",
     "metadata": {},
     "outputs": [
      {
       "output_type": "stream",
       "stream": "stdout",
       "text": [
        "Starting N = 300\n",
        "Starting N = 500"
       ]
      },
      {
       "output_type": "stream",
       "stream": "stdout",
       "text": [
        "\n",
        "Starting N = 1000"
       ]
      },
      {
       "output_type": "stream",
       "stream": "stdout",
       "text": [
        "\n",
        "Starting N = 2000"
       ]
      },
      {
       "output_type": "stream",
       "stream": "stdout",
       "text": [
        "\n",
        "Starting N = 5000"
       ]
      },
      {
       "output_type": "stream",
       "stream": "stdout",
       "text": [
        "\n",
        "Starting N = 7500"
       ]
      },
      {
       "output_type": "stream",
       "stream": "stdout",
       "text": [
        "\n",
        "Starting N = 10000"
       ]
      },
      {
       "output_type": "stream",
       "stream": "stdout",
       "text": [
        "\n"
       ]
      }
     ],
     "prompt_number": 13
    },
    {
     "cell_type": "code",
     "collapsed": false,
     "input": [
      "# Save the results\n",
      "pd.to_pickle(plot_vals_full_sim_kpoint1, \"../results/without_crofton_fit_multiple_Np_kpoint1_1.pkl\")\n",
      "pd.to_pickle(N_avgs_full_sim_kpoint1, \"../results/without_crofton_fit_multiple_Np_Navgs_kpoint1_1.pkl\")"
     ],
     "language": "python",
     "metadata": {},
     "outputs": [],
     "prompt_number": 14
    },
    {
     "cell_type": "code",
     "collapsed": false,
     "input": [
      "# Simulate data for best-case-scenario1.  Fixed LD50 and N_p\n",
      "a = 10\n",
      "b = -5\n",
      "k = 0.1\n",
      "mu = 10\n",
      "N_vals = [300, 500, 1000, 2000, 5000, 7500, 10000] # Sample size\n",
      "SAMP = 150"
     ],
     "language": "python",
     "metadata": {},
     "outputs": [],
     "prompt_number": 15
    },
    {
     "cell_type": "code",
     "collapsed": false,
     "input": [
      "# Run the simulation and fitting procedure for the first combo\n",
      "plot_vals_full_sim_kpoint1_2, N_avgs_full_sim_kpoint1_2 = cfm.simulate_over_np(N_vals, mu, k, a, b, SAMP) "
     ],
     "language": "python",
     "metadata": {},
     "outputs": [
      {
       "output_type": "stream",
       "stream": "stdout",
       "text": [
        "Starting N = 300\n",
        "Starting N = 500"
       ]
      },
      {
       "output_type": "stream",
       "stream": "stdout",
       "text": [
        "\n",
        "Starting N = 1000"
       ]
      },
      {
       "output_type": "stream",
       "stream": "stdout",
       "text": [
        "\n",
        "Starting N = 2000"
       ]
      },
      {
       "output_type": "stream",
       "stream": "stdout",
       "text": [
        "\n",
        "Starting N = 5000"
       ]
      },
      {
       "output_type": "stream",
       "stream": "stdout",
       "text": [
        "\n",
        "Starting N = 7500"
       ]
      },
      {
       "output_type": "stream",
       "stream": "stdout",
       "text": [
        "\n",
        "Starting N = 10000"
       ]
      },
      {
       "output_type": "stream",
       "stream": "stdout",
       "text": [
        "\n"
       ]
      }
     ],
     "prompt_number": 16
    },
    {
     "cell_type": "code",
     "collapsed": false,
     "input": [
      "# Save the results\n",
      "pd.to_pickle(plot_vals_full_sim_kpoint1_2, \"../results/without_crofton_fit_multiple_Np_kpoint1_2.pkl\")\n",
      "pd.to_pickle(N_avgs_full_sim_kpoint1_2, \"../results/without_crofton_fit_multiple_Np_Navgs_kpoint1_2.pkl\")"
     ],
     "language": "python",
     "metadata": {},
     "outputs": [],
     "prompt_number": 17
    },
    {
     "cell_type": "code",
     "collapsed": false,
     "input": [
      "# Simulate data for best-case-scenario1.  Fixed LD50 and N_p\n",
      "a = 30\n",
      "b = -15\n",
      "k = 0.1\n",
      "mu = 10\n",
      "N_vals = [300, 500, 1000, 2000, 5000, 7500, 10000] # Sample size\n",
      "SAMP = 150"
     ],
     "language": "python",
     "metadata": {},
     "outputs": [],
     "prompt_number": 18
    },
    {
     "cell_type": "code",
     "collapsed": false,
     "input": [
      "# Run the simulation and fitting procedure for the first combo\n",
      "plot_vals_full_sim_kpoint1_3, N_avgs_full_sim_kpoint1_3 = cfm.simulate_over_np(N_vals, mu, k, a, b, SAMP) "
     ],
     "language": "python",
     "metadata": {},
     "outputs": [
      {
       "output_type": "stream",
       "stream": "stdout",
       "text": [
        "Starting N = 300\n",
        "Starting N = 500"
       ]
      },
      {
       "output_type": "stream",
       "stream": "stdout",
       "text": [
        "\n",
        "Starting N = 1000"
       ]
      },
      {
       "output_type": "stream",
       "stream": "stdout",
       "text": [
        "\n",
        "Starting N = 2000"
       ]
      },
      {
       "output_type": "stream",
       "stream": "stdout",
       "text": [
        "\n",
        "Starting N = 5000"
       ]
      },
      {
       "output_type": "stream",
       "stream": "stdout",
       "text": [
        "\n",
        "Starting N = 7500"
       ]
      },
      {
       "output_type": "stream",
       "stream": "stdout",
       "text": [
        "\n",
        "Starting N = 10000"
       ]
      },
      {
       "output_type": "stream",
       "stream": "stdout",
       "text": [
        "\n"
       ]
      }
     ],
     "prompt_number": 19
    },
    {
     "cell_type": "code",
     "collapsed": false,
     "input": [
      "# Save the results\n",
      "pd.to_pickle(plot_vals_full_sim_kpoint1_3, \"../results/without_crofton_fit_multiple_Np_kpoint1_3.pkl\")\n",
      "pd.to_pickle(N_avgs_full_sim_kpoint1_3, \"../results/without_crofton_fit_multiple_Np_Navgs_kpoint1_3.pkl\")"
     ],
     "language": "python",
     "metadata": {},
     "outputs": [],
     "prompt_number": 20
    },
    {
     "cell_type": "markdown",
     "metadata": {},
     "source": [
      "# Scenario II: Unknown pre-mortality parameters\n",
      "\n",
      "In Scenario II we have to use Crofton's Method to first estimate N_p, mu_p, k_p and then estimate a and b from there."
     ]
    },
    {
     "cell_type": "code",
     "collapsed": false,
     "input": [
      "# Simulate data for best-case-scenario1.  Fixed LD50 and N_p\n",
      "a = 20\n",
      "b = -10\n",
      "k = 1\n",
      "mu = 10\n",
      "N_vals = [300, 500, 1000, 2000, 5000, 7500, 10000] # Sample size\n",
      "SAMP = 150"
     ],
     "language": "python",
     "metadata": {},
     "outputs": [],
     "prompt_number": 21
    },
    {
     "cell_type": "code",
     "collapsed": false,
     "input": [
      "plot_vals_sim_nocrof, N_avgs_sim_nocrof = cfm.simulate_over_np(N_vals, mu, k, a, b, SAMP, crof_params=False) "
     ],
     "language": "python",
     "metadata": {},
     "outputs": [
      {
       "output_type": "stream",
       "stream": "stdout",
       "text": [
        "Starting N = 300\n",
        "Starting N = 500"
       ]
      },
      {
       "output_type": "stream",
       "stream": "stdout",
       "text": [
        "\n",
        "Starting N = 1000"
       ]
      },
      {
       "output_type": "stream",
       "stream": "stdout",
       "text": [
        "\n",
        "Starting N = 2000"
       ]
      },
      {
       "output_type": "stream",
       "stream": "stdout",
       "text": [
        "\n",
        "Starting N = 5000"
       ]
      },
      {
       "output_type": "stream",
       "stream": "stdout",
       "text": [
        "\n",
        "Starting N = 7500"
       ]
      },
      {
       "output_type": "stream",
       "stream": "stdout",
       "text": [
        "\n",
        "Starting N = 10000"
       ]
      },
      {
       "output_type": "stream",
       "stream": "stdout",
       "text": [
        "\n"
       ]
      }
     ],
     "prompt_number": 22
    },
    {
     "cell_type": "code",
     "collapsed": false,
     "input": [
      "# Save the results\n",
      "pd.to_pickle(plot_vals_sim_nocrof, \"../results/with_crofton_fit_multiple_Np1.pkl\")\n",
      "pd.to_pickle(N_avgs_sim_nocrof, \"../results/with_crofton_fit_multiple_Np_Navgs1.pkl\")"
     ],
     "language": "python",
     "metadata": {},
     "outputs": [
      {
       "ename": "NameError",
       "evalue": "name 'plot_vals_sim_nocrof' is not defined",
       "output_type": "pyerr",
       "traceback": [
        "\u001b[0;31m---------------------------------------------------------------------------\u001b[0m\n\u001b[0;31mNameError\u001b[0m                                 Traceback (most recent call last)",
        "\u001b[0;32m<ipython-input-2-a0e091605fcf>\u001b[0m in \u001b[0;36m<module>\u001b[0;34m()\u001b[0m\n\u001b[1;32m      1\u001b[0m \u001b[0;31m# Save the results\u001b[0m\u001b[0;34m\u001b[0m\u001b[0;34m\u001b[0m\u001b[0m\n\u001b[0;32m----> 2\u001b[0;31m \u001b[0mpd\u001b[0m\u001b[0;34m.\u001b[0m\u001b[0mto_pickle\u001b[0m\u001b[0;34m(\u001b[0m\u001b[0mplot_vals_sim_nocrof\u001b[0m\u001b[0;34m,\u001b[0m \u001b[0;34m\"../results/with_crofton_fit_multiple_Np1.pkl\"\u001b[0m\u001b[0;34m)\u001b[0m\u001b[0;34m\u001b[0m\u001b[0m\n\u001b[0m\u001b[1;32m      3\u001b[0m \u001b[0mpd\u001b[0m\u001b[0;34m.\u001b[0m\u001b[0mto_pickle\u001b[0m\u001b[0;34m(\u001b[0m\u001b[0mN_avgs_sim_nocrof\u001b[0m\u001b[0;34m,\u001b[0m \u001b[0;34m\"../results/with_crofton_fit_multiple_Np_Navgs1.pkl\"\u001b[0m\u001b[0;34m)\u001b[0m\u001b[0;34m\u001b[0m\u001b[0m\n",
        "\u001b[0;31mNameError\u001b[0m: name 'plot_vals_sim_nocrof' is not defined"
       ]
      }
     ],
     "prompt_number": 2
    },
    {
     "cell_type": "code",
     "collapsed": false,
     "input": [
      "# Simulate data for best-case-scenario1.  Fixed LD50 and N_p\n",
      "a = 10\n",
      "b = -5\n",
      "k = 1\n",
      "mu = 10\n",
      "N_vals = [300, 500, 1000, 2000, 5000, 7500, 10000] # Sample size\n",
      "SAMP = 150"
     ],
     "language": "python",
     "metadata": {},
     "outputs": [],
     "prompt_number": 3
    },
    {
     "cell_type": "code",
     "collapsed": false,
     "input": [
      "plot_vals_sim_nocrof2, N_avgs_sim_nocrof2 = cfm.simulate_over_np(N_vals, mu, k, a, b, SAMP, crof_params=False) "
     ],
     "language": "python",
     "metadata": {},
     "outputs": [
      {
       "output_type": "stream",
       "stream": "stdout",
       "text": [
        "Starting N = 300\n",
        "Starting N = 500"
       ]
      },
      {
       "output_type": "stream",
       "stream": "stdout",
       "text": [
        "\n",
        "Starting N = 1000"
       ]
      },
      {
       "output_type": "stream",
       "stream": "stdout",
       "text": [
        "\n",
        "Starting N = 2000"
       ]
      },
      {
       "output_type": "stream",
       "stream": "stdout",
       "text": [
        "\n",
        "Starting N = 5000"
       ]
      },
      {
       "output_type": "stream",
       "stream": "stdout",
       "text": [
        "\n",
        "Starting N = 7500"
       ]
      },
      {
       "output_type": "stream",
       "stream": "stdout",
       "text": [
        "\n",
        "Starting N = 10000"
       ]
      },
      {
       "output_type": "stream",
       "stream": "stdout",
       "text": [
        "\n"
       ]
      }
     ],
     "prompt_number": 4
    },
    {
     "cell_type": "code",
     "collapsed": false,
     "input": [
      "# Save the results\n",
      "pd.to_pickle(plot_vals_sim_nocrof2, \"../results/with_crofton_fit_multiple_Np2.pkl\")\n",
      "pd.to_pickle(N_avgs_sim_nocrof2, \"../results/with_crofton_fit_multiple_Np_Navgs2.pkl\")"
     ],
     "language": "python",
     "metadata": {},
     "outputs": [],
     "prompt_number": 5
    },
    {
     "cell_type": "code",
     "collapsed": false,
     "input": [
      "a = 30\n",
      "b = -15\n",
      "k = 1\n",
      "mu = 10\n",
      "N_vals = [300, 500, 1000, 2000, 5000, 7500, 10000] # Sample size\n",
      "SAMP = 150"
     ],
     "language": "python",
     "metadata": {},
     "outputs": [],
     "prompt_number": 6
    },
    {
     "cell_type": "code",
     "collapsed": false,
     "input": [
      "plot_vals_sim_nocrof3, N_avgs_sim_nocrof3 = cfm.simulate_over_np(N_vals, mu, k, a, b, SAMP, crof_params=False) "
     ],
     "language": "python",
     "metadata": {},
     "outputs": [
      {
       "output_type": "stream",
       "stream": "stdout",
       "text": [
        "Starting N = 300\n",
        "Starting N = 500"
       ]
      },
      {
       "output_type": "stream",
       "stream": "stdout",
       "text": [
        "\n",
        "Starting N = 1000"
       ]
      },
      {
       "output_type": "stream",
       "stream": "stdout",
       "text": [
        "\n",
        "Starting N = 2000"
       ]
      },
      {
       "output_type": "stream",
       "stream": "stdout",
       "text": [
        "\n",
        "Starting N = 5000"
       ]
      },
      {
       "output_type": "stream",
       "stream": "stdout",
       "text": [
        "\n",
        "Starting N = 7500"
       ]
      },
      {
       "output_type": "stream",
       "stream": "stdout",
       "text": [
        "\n",
        "Starting N = 10000"
       ]
      },
      {
       "output_type": "stream",
       "stream": "stdout",
       "text": [
        "\n"
       ]
      }
     ],
     "prompt_number": 7
    },
    {
     "cell_type": "code",
     "collapsed": false,
     "input": [
      "# Save the results\n",
      "pd.to_pickle(plot_vals_sim_nocrof3, \"../results/with_crofton_fit_multiple_Np3.pkl\")\n",
      "pd.to_pickle(N_avgs_sim_nocrof3, \"../results/with_crofton_fit_multiple_Np_Navgs3.pkl\")"
     ],
     "language": "python",
     "metadata": {},
     "outputs": [],
     "prompt_number": 8
    },
    {
     "cell_type": "markdown",
     "metadata": {},
     "source": [
      "### Same as above (with Crofton Method) but now looking at k = 0.5"
     ]
    },
    {
     "cell_type": "code",
     "collapsed": false,
     "input": [
      "# Simulate data for best-case-scenario1.  Fixed LD50 and N_p\n",
      "a = 20\n",
      "b = -10\n",
      "k = 0.5\n",
      "mu = 10\n",
      "N_vals = [300, 500, 1000, 2000, 5000, 7500, 10000] # Sample size\n",
      "SAMP = 150"
     ],
     "language": "python",
     "metadata": {},
     "outputs": [],
     "prompt_number": 13
    },
    {
     "cell_type": "code",
     "collapsed": false,
     "input": [
      "plot_vals_sim_nocrof_kpoint5_1, N_avgs_sim_nocrof_kpoint5_1 = cfm.simulate_over_np(N_vals, mu, k, a, b, SAMP, crof_params=False) "
     ],
     "language": "python",
     "metadata": {},
     "outputs": [
      {
       "output_type": "stream",
       "stream": "stdout",
       "text": [
        "Starting N = 300\n",
        "Starting N = 500"
       ]
      },
      {
       "output_type": "stream",
       "stream": "stdout",
       "text": [
        "\n",
        "Starting N = 1000"
       ]
      },
      {
       "output_type": "stream",
       "stream": "stdout",
       "text": [
        "\n",
        "Starting N = 2000"
       ]
      },
      {
       "output_type": "stream",
       "stream": "stdout",
       "text": [
        "\n",
        "Starting N = 5000"
       ]
      },
      {
       "output_type": "stream",
       "stream": "stdout",
       "text": [
        "\n",
        "Starting N = 7500"
       ]
      },
      {
       "output_type": "stream",
       "stream": "stdout",
       "text": [
        "\n",
        "Starting N = 10000"
       ]
      },
      {
       "output_type": "stream",
       "stream": "stdout",
       "text": [
        "\n"
       ]
      }
     ],
     "prompt_number": 10
    },
    {
     "cell_type": "code",
     "collapsed": false,
     "input": [
      "# Save the results\n",
      "pd.to_pickle(plot_vals_sim_nocrof_kpoint5_1, \"../results/with_crofton_fit_multiple_Np_kpoint5_1.pkl\")\n",
      "pd.to_pickle(N_avgs_sim_nocrof_kpoint5_1, \"../results/with_crofton_fit_multiple_Np_Navgs_kpoint5_1.pkl\")"
     ],
     "language": "python",
     "metadata": {},
     "outputs": [],
     "prompt_number": 14
    },
    {
     "cell_type": "code",
     "collapsed": false,
     "input": [
      "# Simulate data for best-case-scenario1.  Fixed LD50 and N_p\n",
      "a = 10\n",
      "b = -5\n",
      "k = 0.5\n",
      "mu = 10\n",
      "N_vals = [300, 500, 1000, 2000, 5000, 7500, 10000] # Sample size\n",
      "SAMP = 150"
     ],
     "language": "python",
     "metadata": {},
     "outputs": [],
     "prompt_number": 15
    },
    {
     "cell_type": "code",
     "collapsed": false,
     "input": [
      "plot_vals_sim_nocrof_kpoint5_2, N_avgs_sim_nocrof_kpoint5_2 = cfm.simulate_over_np(N_vals, mu, k, a, b, SAMP, crof_params=False) "
     ],
     "language": "python",
     "metadata": {},
     "outputs": [
      {
       "output_type": "stream",
       "stream": "stdout",
       "text": [
        "Starting N = 300\n",
        "Starting N = 500"
       ]
      },
      {
       "output_type": "stream",
       "stream": "stdout",
       "text": [
        "\n",
        "Starting N = 1000"
       ]
      },
      {
       "output_type": "stream",
       "stream": "stdout",
       "text": [
        "\n",
        "Starting N = 2000"
       ]
      },
      {
       "output_type": "stream",
       "stream": "stdout",
       "text": [
        "\n",
        "Starting N = 5000"
       ]
      },
      {
       "output_type": "stream",
       "stream": "stdout",
       "text": [
        "\n",
        "Starting N = 7500"
       ]
      },
      {
       "output_type": "stream",
       "stream": "stdout",
       "text": [
        "\n",
        "Starting N = 10000"
       ]
      },
      {
       "output_type": "stream",
       "stream": "stdout",
       "text": [
        "\n"
       ]
      }
     ],
     "prompt_number": 16
    },
    {
     "cell_type": "code",
     "collapsed": false,
     "input": [
      "# Save the results\n",
      "pd.to_pickle(plot_vals_sim_nocrof_kpoint5_2, \"../results/with_crofton_fit_multiple_Np_kpoint5_2.pkl\")\n",
      "pd.to_pickle(N_avgs_sim_nocrof_kpoint5_2, \"../results/with_crofton_fit_multiple_Np_Navgs_kpoint5_2.pkl\")"
     ],
     "language": "python",
     "metadata": {},
     "outputs": [],
     "prompt_number": 17
    },
    {
     "cell_type": "code",
     "collapsed": false,
     "input": [
      "# Simulate data for best-case-scenario1.  Fixed LD50 and N_p\n",
      "a = 30\n",
      "b = -15\n",
      "k = 0.5\n",
      "mu = 10\n",
      "N_vals = [300, 500, 1000, 2000, 5000, 7500, 10000] # Sample size\n",
      "SAMP = 150"
     ],
     "language": "python",
     "metadata": {},
     "outputs": [],
     "prompt_number": 18
    },
    {
     "cell_type": "code",
     "collapsed": false,
     "input": [
      "plot_vals_sim_nocrof_kpoint5_3, N_avgs_sim_nocrof_kpoint5_3 = cfm.simulate_over_np(N_vals, mu, k, a, b, SAMP, crof_params=False) "
     ],
     "language": "python",
     "metadata": {},
     "outputs": [
      {
       "output_type": "stream",
       "stream": "stdout",
       "text": [
        "Starting N = 300\n",
        "Starting N = 500"
       ]
      },
      {
       "output_type": "stream",
       "stream": "stdout",
       "text": [
        "\n",
        "Starting N = 1000"
       ]
      },
      {
       "output_type": "stream",
       "stream": "stdout",
       "text": [
        "\n",
        "Starting N = 2000"
       ]
      },
      {
       "output_type": "stream",
       "stream": "stdout",
       "text": [
        "\n",
        "Starting N = 5000"
       ]
      },
      {
       "output_type": "stream",
       "stream": "stdout",
       "text": [
        "\n",
        "Starting N = 7500"
       ]
      },
      {
       "output_type": "stream",
       "stream": "stdout",
       "text": [
        "\n",
        "Starting N = 10000"
       ]
      },
      {
       "output_type": "stream",
       "stream": "stdout",
       "text": [
        "\n"
       ]
      }
     ],
     "prompt_number": 19
    },
    {
     "cell_type": "code",
     "collapsed": false,
     "input": [
      "# Save the results\n",
      "pd.to_pickle(plot_vals_sim_nocrof_kpoint5_3, \"../results/with_crofton_fit_multiple_Np_kpoint5_3.pkl\")\n",
      "pd.to_pickle(N_avgs_sim_nocrof_kpoint5_3, \"../results/with_crofton_fit_multiple_Np_Navgs_kpoint5_3.pkl\")"
     ],
     "language": "python",
     "metadata": {},
     "outputs": [],
     "prompt_number": 20
    },
    {
     "cell_type": "markdown",
     "metadata": {},
     "source": [
      "### Same as above (with Crofton Method) but now looking at k = 0.1"
     ]
    },
    {
     "cell_type": "code",
     "collapsed": false,
     "input": [
      "# Simulate data for best-case-scenario1.  Fixed LD50 and N_p\n",
      "a = 20\n",
      "b = -10\n",
      "k = 0.1\n",
      "mu = 10\n",
      "N_vals = [300, 500, 1000, 2000, 5000, 7500, 10000] # Sample size\n",
      "SAMP = 150"
     ],
     "language": "python",
     "metadata": {},
     "outputs": [],
     "prompt_number": 21
    },
    {
     "cell_type": "code",
     "collapsed": false,
     "input": [
      "plot_vals_sim_nocrof_kpoint1_1, N_avgs_sim_nocrof_kpoint1_1 = cfm.simulate_over_np(N_vals, mu, k, a, b, SAMP, crof_params=False) "
     ],
     "language": "python",
     "metadata": {},
     "outputs": [
      {
       "output_type": "stream",
       "stream": "stdout",
       "text": [
        "Starting N = 300\n",
        "Starting N = 500"
       ]
      },
      {
       "output_type": "stream",
       "stream": "stdout",
       "text": [
        "\n",
        "Starting N = 1000"
       ]
      },
      {
       "output_type": "stream",
       "stream": "stdout",
       "text": [
        "\n",
        "Starting N = 2000"
       ]
      },
      {
       "output_type": "stream",
       "stream": "stdout",
       "text": [
        "\n",
        "Starting N = 5000"
       ]
      },
      {
       "output_type": "stream",
       "stream": "stdout",
       "text": [
        "\n",
        "Starting N = 7500"
       ]
      },
      {
       "output_type": "stream",
       "stream": "stdout",
       "text": [
        "\n",
        "Starting N = 10000"
       ]
      },
      {
       "output_type": "stream",
       "stream": "stdout",
       "text": [
        "\n"
       ]
      }
     ],
     "prompt_number": 22
    },
    {
     "cell_type": "code",
     "collapsed": false,
     "input": [
      "# Save the results\n",
      "pd.to_pickle(plot_vals_sim_nocrof_kpoint1_1, \"../results/with_crofton_fit_multiple_Np_kpoint1_1.pkl\")\n",
      "pd.to_pickle(N_avgs_sim_nocrof_kpoint1_1, \"../results/with_crofton_fit_multiple_Np_Navgs_kpoint1_1.pkl\")"
     ],
     "language": "python",
     "metadata": {},
     "outputs": [],
     "prompt_number": 23
    },
    {
     "cell_type": "code",
     "collapsed": false,
     "input": [
      "# Simulate data for best-case-scenario1.  Fixed LD50 and N_p\n",
      "a = 10\n",
      "b = -5\n",
      "k = 0.1\n",
      "mu = 10\n",
      "N_vals = [300, 500, 1000, 2000, 5000, 7500, 10000] # Sample size\n",
      "SAMP = 150"
     ],
     "language": "python",
     "metadata": {},
     "outputs": [],
     "prompt_number": 25
    },
    {
     "cell_type": "code",
     "collapsed": false,
     "input": [
      "plot_vals_sim_nocrof_kpoint1_2, N_avgs_sim_nocrof_kpoint1_2 = cfm.simulate_over_np(N_vals, mu, k, a, b, SAMP, crof_params=False) "
     ],
     "language": "python",
     "metadata": {},
     "outputs": [
      {
       "output_type": "stream",
       "stream": "stdout",
       "text": [
        "Starting N = 300\n",
        "Starting N = 500"
       ]
      },
      {
       "output_type": "stream",
       "stream": "stdout",
       "text": [
        "\n",
        "Starting N = 1000"
       ]
      },
      {
       "output_type": "stream",
       "stream": "stdout",
       "text": [
        "\n",
        "Starting N = 2000"
       ]
      },
      {
       "output_type": "stream",
       "stream": "stdout",
       "text": [
        "\n",
        "Starting N = 5000"
       ]
      },
      {
       "output_type": "stream",
       "stream": "stdout",
       "text": [
        "\n",
        "Starting N = 7500"
       ]
      },
      {
       "output_type": "stream",
       "stream": "stdout",
       "text": [
        "\n",
        "Starting N = 10000"
       ]
      },
      {
       "output_type": "stream",
       "stream": "stdout",
       "text": [
        "\n"
       ]
      }
     ],
     "prompt_number": 26
    },
    {
     "cell_type": "code",
     "collapsed": false,
     "input": [
      "# Save the results\n",
      "pd.to_pickle(plot_vals_sim_nocrof_kpoint1_2, \"../results/with_crofton_fit_multiple_Np_kpoint1_2.pkl\")\n",
      "pd.to_pickle(N_avgs_sim_nocrof_kpoint1_2, \"../results/with_crofton_fit_multiple_Np_Navgs_kpoint1_2.pkl\")"
     ],
     "language": "python",
     "metadata": {},
     "outputs": [],
     "prompt_number": 27
    },
    {
     "cell_type": "code",
     "collapsed": false,
     "input": [
      "# Simulate data for best-case-scenario1.  Fixed LD50 and N_p\n",
      "a = 30\n",
      "b = -15\n",
      "k = 0.1\n",
      "mu = 10\n",
      "N_vals = [300, 500, 1000, 2000, 5000, 7500, 10000] # Sample size\n",
      "SAMP = 150"
     ],
     "language": "python",
     "metadata": {},
     "outputs": [],
     "prompt_number": 28
    },
    {
     "cell_type": "code",
     "collapsed": false,
     "input": [
      "plot_vals_sim_nocrof_kpoint1_3, N_avgs_sim_nocrof_kpoint1_3 = cfm.simulate_over_np(N_vals, mu, k, a, b, SAMP, crof_params=False) "
     ],
     "language": "python",
     "metadata": {},
     "outputs": [
      {
       "output_type": "stream",
       "stream": "stdout",
       "text": [
        "Starting N = 300\n",
        "Starting N = 500"
       ]
      },
      {
       "output_type": "stream",
       "stream": "stdout",
       "text": [
        "\n",
        "Starting N = 1000"
       ]
      },
      {
       "output_type": "stream",
       "stream": "stdout",
       "text": [
        "\n",
        "Starting N = 2000"
       ]
      },
      {
       "output_type": "stream",
       "stream": "stdout",
       "text": [
        "\n",
        "Starting N = 5000"
       ]
      },
      {
       "output_type": "stream",
       "stream": "stdout",
       "text": [
        "\n",
        "Starting N = 7500"
       ]
      },
      {
       "output_type": "stream",
       "stream": "stdout",
       "text": [
        "\n",
        "Starting N = 10000"
       ]
      },
      {
       "output_type": "stream",
       "stream": "stdout",
       "text": [
        "\n"
       ]
      }
     ],
     "prompt_number": 29
    },
    {
     "cell_type": "code",
     "collapsed": false,
     "input": [
      "# Save the results\n",
      "pd.to_pickle(plot_vals_sim_nocrof_kpoint1_3, \"../results/with_crofton_fit_multiple_Np_kpoint1_3.pkl\")\n",
      "pd.to_pickle(N_avgs_sim_nocrof_kpoint1_3, \"../results/with_crofton_fit_multiple_Np_Navgs_kpoint1_3.pkl\")"
     ],
     "language": "python",
     "metadata": {},
     "outputs": [],
     "prompt_number": 30
    }
   ],
   "metadata": {}
  }
 ]
}