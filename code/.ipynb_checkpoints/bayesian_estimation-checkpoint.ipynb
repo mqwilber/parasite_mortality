{
 "metadata": {
  "name": "",
  "signature": "sha256:3d8e309b6ea3879d7cd65ba911f7bf7e74d7c8828c02417706f8da2b802b3d99"
 },
 "nbformat": 3,
 "nbformat_minor": 0,
 "worksheets": [
  {
   "cells": [
    {
     "cell_type": "markdown",
     "metadata": {},
     "source": [
      "### Bayesian method for estimating parasite mortality\n",
      "\n",
      "**12-04-2014**"
     ]
    },
    {
     "cell_type": "code",
     "collapsed": false,
     "input": [
      "%pylab inline\n",
      "import pymc as pm\n",
      "import pandas as pd\n",
      "import macroeco.models as mod\n",
      "from macroeco.misc import rcparams\n",
      "import scipy.optimize as opt\n",
      "\n",
      "# Set graphing parameters\n",
      "for key in rcparams.ggplot_rc.iterkeys():\n",
      "    plt.rcParams[key] = rcparams.ggplot_rc[key]"
     ],
     "language": "python",
     "metadata": {},
     "outputs": [
      {
       "output_type": "stream",
       "stream": "stdout",
       "text": [
        "Populating the interactive namespace from numpy and matplotlib\n"
       ]
      }
     ],
     "prompt_number": 1
    },
    {
     "cell_type": "code",
     "collapsed": false,
     "input": [
      "def nbd_fixed_mean(data, mean):\n",
      "    \n",
      "    loglike = lambda k: -np.sum(mod.nbinom.logpmf(data, mean, k))\n",
      "    return opt.fmin(loglike, 1, disp=0)[0]"
     ],
     "language": "python",
     "metadata": {},
     "outputs": [],
     "prompt_number": 2
    },
    {
     "cell_type": "markdown",
     "metadata": {},
     "source": [
      "There are three parameters in this model\n",
      "\n",
      "1. $\\tau$ : The truncation threshold for the initial negative binomial fit\n",
      "2. $a$ : Logistic Regresssion parameter\n",
      "3. $b$ : Logistic Regression parameter"
     ]
    },
    {
     "cell_type": "code",
     "collapsed": false,
     "input": [
      "# Load in Raccoon Data and calc some basic info\n",
      "rc_data = pd.read_csv(\"../data/all_raccoon_data.csv\")\n",
      "worms = np.array(rc_data['worms'])\n",
      "num_hosts = len(worms)\n",
      "max_worms = np.max(worms)\n",
      "\n",
      "# tau = pm.Uniform(\"tau\", 1, 120, value=20.)\n",
      "tau=120\n",
      "\n",
      "# 1. Truncate data and fit negative binomial with fixed mean\n",
      "trun_data = worms[worms < tau]\n",
      "mu = np.mean(worms)\n",
      "k = nbd_fixed_mean(trun_data, mu)\n",
      "\n",
      "# 2. Bin empirical data and theoretical data\n",
      "empirical_binned = pd.DataFrame(pd.Series(trun_data).value_counts())\n",
      "empirical_binned.columns = [\"emp\"]\n",
      "theor_data = np.round(mod.nbinom.pmf(np.arange(0, max_worms + 1), mu, k) * num_hosts, decimals=0)\n",
      "theor_binned = pd.DataFrame(theor_data, columns=[\"pred\"])\n",
      "\n",
      "# 3. Set emp equal to or less than pred and drop zeros.\n",
      "all_data = theor_binned.join(empirical_binned)\n",
      "ind = all_data['emp'].isnull()\n",
      "all_data['emp'][ind] = 0\n",
      "\n",
      "# Drop if pred is 0\n",
      "all_data = all_data[all_data['pred'] != 0]\n",
      "\n",
      "ind = all_data['emp'] > all_data['pred']\n",
      "all_data['emp'][ind] = all_data['pred'][ind]\n",
      "all_data_nz = all_data.ix[all_data.index[1:]] # drop zeros\n",
      "all_data_no  = all_data_nz[all_data_nz['pred'] != 1]\n",
      "\n",
      "#all_data_nz['emp'].ix[1] = all_data_nz['pred'].ix[1]\n",
      "worm_vals = np.array(all_data_no.index).astype(float)"
     ],
     "language": "python",
     "metadata": {},
     "outputs": [],
     "prompt_number": 3
    },
    {
     "cell_type": "code",
     "collapsed": false,
     "input": [
      "#tau = pm.DiscreteUniform(\"tau\", 1, 120, value=20.)\n",
      "#tau=120\n",
      "\n",
      "# Uninformative priors on a and b parameters\n",
      "a = pm.Normal(\"a\", 0, 1e-6, value=0)\n",
      "b = pm.Normal(\"b\", 0, 1e-6, value=0)\n",
      "\n",
      "@pm.observed\n",
      "def parasite_mortality(value=worms, a=a, b=b):\n",
      "    \"\"\" Parasite maximization routine \"\"\"\n",
      "    \n",
      "    # 4. Likelihood of logistic regression\n",
      "    like = pm.binomial_like(np.array(all_data_no['emp']), np.array(all_data_no['pred']), \n",
      "                            pm.invlogit(a + np.log(worm_vals) * b))\n",
      "    \n",
      "    return like\n",
      "\n",
      "model1 = pm.Model([a, b])\n",
      "# mapit1 = pm.MAP(model1)\n",
      "# mapit1.fit()\n",
      "\n",
      "mcmc1 = pm.MCMC(model1)\n",
      "mcmc1.sample(iter=100000, burn=50000, thin=5)"
     ],
     "language": "python",
     "metadata": {},
     "outputs": [
      {
       "output_type": "stream",
       "stream": "stdout",
       "text": [
        "\r",
        " [-                 2%                  ] 2820 of 100000 complete in 0.5 sec"
       ]
      },
      {
       "output_type": "stream",
       "stream": "stdout",
       "text": [
        "\r",
        " [-                 4%                  ] 4893 of 100000 complete in 1.0 sec"
       ]
      },
      {
       "output_type": "stream",
       "stream": "stdout",
       "text": [
        "\r",
        " [---               8%                  ] 8351 of 100000 complete in 1.5 sec"
       ]
      },
      {
       "output_type": "stream",
       "stream": "stdout",
       "text": [
        "\r",
        " [----             11%                  ] 11419 of 100000 complete in 2.0 sec"
       ]
      },
      {
       "output_type": "stream",
       "stream": "stdout",
       "text": [
        "\r",
        " [-----            15%                  ] 15302 of 100000 complete in 2.5 sec"
       ]
      },
      {
       "output_type": "stream",
       "stream": "stdout",
       "text": [
        "\r",
        " [-------          19%                  ] 19187 of 100000 complete in 3.0 sec"
       ]
      },
      {
       "output_type": "stream",
       "stream": "stdout",
       "text": [
        "\r",
        " [--------         23%                  ] 23092 of 100000 complete in 3.5 sec"
       ]
      },
      {
       "output_type": "stream",
       "stream": "stdout",
       "text": [
        "\r",
        " [----------       26%                  ] 26968 of 100000 complete in 4.0 sec"
       ]
      },
      {
       "output_type": "stream",
       "stream": "stdout",
       "text": [
        "\r",
        " [-----------      30%                  ] 30890 of 100000 complete in 4.5 sec"
       ]
      },
      {
       "output_type": "stream",
       "stream": "stdout",
       "text": [
        "\r",
        " [-------------    34%                  ] 34789 of 100000 complete in 5.0 sec"
       ]
      },
      {
       "output_type": "stream",
       "stream": "stdout",
       "text": [
        "\r",
        " [--------------   38%                  ] 38705 of 100000 complete in 5.5 sec"
       ]
      },
      {
       "output_type": "stream",
       "stream": "stdout",
       "text": [
        "\r",
        " [---------------- 42%                  ] 42615 of 100000 complete in 6.0 sec"
       ]
      },
      {
       "output_type": "stream",
       "stream": "stdout",
       "text": [
        "\r",
        " [-----------------46%                  ] 46488 of 100000 complete in 6.5 sec"
       ]
      },
      {
       "output_type": "stream",
       "stream": "stdout",
       "text": [
        "\r",
        " [-----------------50%                  ] 50379 of 100000 complete in 7.0 sec"
       ]
      },
      {
       "output_type": "stream",
       "stream": "stdout",
       "text": [
        "\r",
        " [-----------------54%                  ] 54079 of 100000 complete in 7.5 sec"
       ]
      },
      {
       "output_type": "stream",
       "stream": "stdout",
       "text": [
        "\r",
        " [-----------------57%-                 ] 57799 of 100000 complete in 8.0 sec"
       ]
      },
      {
       "output_type": "stream",
       "stream": "stdout",
       "text": [
        "\r",
        " [-----------------61%---               ] 61523 of 100000 complete in 8.5 sec"
       ]
      },
      {
       "output_type": "stream",
       "stream": "stdout",
       "text": [
        "\r",
        " [-----------------65%----              ] 65299 of 100000 complete in 9.0 sec"
       ]
      },
      {
       "output_type": "stream",
       "stream": "stdout",
       "text": [
        "\r",
        " [-----------------69%------            ] 69012 of 100000 complete in 9.5 sec"
       ]
      },
      {
       "output_type": "stream",
       "stream": "stdout",
       "text": [
        "\r",
        " [-----------------72%-------           ] 72775 of 100000 complete in 10.0 sec"
       ]
      },
      {
       "output_type": "stream",
       "stream": "stdout",
       "text": [
        "\r",
        " [-----------------76%---------         ] 76440 of 100000 complete in 10.5 sec"
       ]
      },
      {
       "output_type": "stream",
       "stream": "stdout",
       "text": [
        "\r",
        " [-----------------80%----------        ] 80137 of 100000 complete in 11.0 sec"
       ]
      },
      {
       "output_type": "stream",
       "stream": "stdout",
       "text": [
        "\r",
        " [-----------------83%-----------       ] 83702 of 100000 complete in 11.5 sec"
       ]
      },
      {
       "output_type": "stream",
       "stream": "stdout",
       "text": [
        "\r",
        " [-----------------87%-------------     ] 87478 of 100000 complete in 12.0 sec"
       ]
      },
      {
       "output_type": "stream",
       "stream": "stdout",
       "text": [
        "\r",
        " [-----------------91%--------------    ] 91237 of 100000 complete in 12.5 sec"
       ]
      },
      {
       "output_type": "stream",
       "stream": "stdout",
       "text": [
        "\r",
        " [-----------------94%----------------  ] 94787 of 100000 complete in 13.0 sec"
       ]
      },
      {
       "output_type": "stream",
       "stream": "stdout",
       "text": [
        "\r",
        " [-----------------98%----------------- ] 98552 of 100000 complete in 13.5 sec"
       ]
      },
      {
       "output_type": "stream",
       "stream": "stdout",
       "text": [
        "\r",
        " [-----------------100%-----------------] 100000 of 100000 complete in 13.7 sec"
       ]
      }
     ],
     "prompt_number": 4
    },
    {
     "cell_type": "code",
     "collapsed": false,
     "input": [
      "mcmc1.trace('b').stats()"
     ],
     "language": "python",
     "metadata": {},
     "outputs": [
      {
       "metadata": {},
       "output_type": "pyout",
       "prompt_number": 15,
       "text": [
        "{'95% HPD interval': array([-0.61321701, -0.11017525]),\n",
        " 'mc error': 0.0030006448335639811,\n",
        " 'mean': -0.36735443080929558,\n",
        " 'n': 19900,\n",
        " 'quantiles': {2.5: -0.62230759513562017,\n",
        "  25: -0.45501209302790108,\n",
        "  50: -0.36623906277804985,\n",
        "  75: -0.27928247144413848,\n",
        "  97.5: -0.11801268836923481},\n",
        " 'standard deviation': 0.12954833348295927}"
       ]
      }
     ],
     "prompt_number": 15
    },
    {
     "cell_type": "code",
     "collapsed": false,
     "input": [
      "pm.Uniform?"
     ],
     "language": "python",
     "metadata": {},
     "outputs": [],
     "prompt_number": 243
    },
    {
     "cell_type": "code",
     "collapsed": false,
     "input": [
      "mapit1.stochastic_list[0].value"
     ],
     "language": "python",
     "metadata": {},
     "outputs": [
      {
       "metadata": {},
       "output_type": "pyout",
       "prompt_number": 242,
       "text": [
        "array(2.299844038980801)"
       ]
      }
     ],
     "prompt_number": 242
    },
    {
     "cell_type": "code",
     "collapsed": false,
     "input": [
      "pm.Matplot.plot(mcmc1)"
     ],
     "language": "python",
     "metadata": {},
     "outputs": [
      {
       "output_type": "stream",
       "stream": "stdout",
       "text": [
        "Plotting a\n",
        "Plotting"
       ]
      },
      {
       "output_type": "stream",
       "stream": "stdout",
       "text": [
        " tau\n",
        "Plotting"
       ]
      },
      {
       "output_type": "stream",
       "stream": "stdout",
       "text": [
        " b\n"
       ]
      },
      {
       "output_type": "stream",
       "stream": "stderr",
       "text": [
        "/Users/mqwilber/anaconda/lib/python2.7/site-packages/numpy/core/fromnumeric.py:2499: VisibleDeprecationWarning: `rank` is deprecated; use the `ndim` attribute or function instead. To find the rank of a matrix see `numpy.linalg.matrix_rank`.\n",
        "  VisibleDeprecationWarning)\n"
       ]
      },
      {
       "metadata": {},
       "output_type": "display_data",
       "png": "[encoded data removed]",
       "text": [
        "<matplotlib.figure.Figure at 0x10b4bb2d0>"
       ]
      },
      {
       "metadata": {},
       "output_type": "display_data",
       "png": "[encoded data removed]",
       "text": [
        "<matplotlib.figure.Figure at 0x10b6bd690>"
       ]
      },
      {
       "metadata": {},
       "output_type": "display_data",
       "png": "[encoded data removed]",
       "text": [
        "<matplotlib.figure.Figure at 0x10c628550>"
       ]
      }
     ],
     "prompt_number": 7
    },
    {
     "cell_type": "code",
     "collapsed": false,
     "input": [
      "plot(log(np.array(all_data_nz.index).astype(float)), all_data_nz['emp'] / all_data_nz['pred'], 'o')\n",
      "vals = np.linspace(0.01, 4.5, 100)\n",
      "plot(vals, pm.invlogit(mcmc1.trace('a').stats()['mean'] + mcmc1.trace('b').stats()['mean'] * vals))\n",
      "ylim(-0.1, 1.1)"
     ],
     "language": "python",
     "metadata": {},
     "outputs": [
      {
       "metadata": {},
       "output_type": "pyout",
       "prompt_number": 5,
       "text": [
        "(-0.1, 1.1)"
       ]
      },
      {
       "metadata": {},
       "output_type": "display_data",
       "png": "[encoded data removed]",
       "text": [
        "<matplotlib.figure.Figure at 0x10b411050>"
       ]
      }
     ],
     "prompt_number": 5
    },
    {
     "cell_type": "code",
     "collapsed": false,
     "input": [
      "x = theor_binned.join(empirical_binned)\n",
      "ind = x['emp'].isnull()\n",
      "x['emp'][ind] = 0\n",
      "x"
     ],
     "language": "python",
     "metadata": {},
     "outputs": [
      {
       "html": [
        "<div style=\"max-height:1000px;max-width:1500px;overflow:auto;\">\n",
        "<table border=\"1\" class=\"dataframe\">\n",
        "  <thead>\n",
        "    <tr style=\"text-align: right;\">\n",
        "      <th></th>\n",
        "      <th>pred</th>\n",
        "      <th>emp</th>\n",
        "    </tr>\n",
        "  </thead>\n",
        "  <tbody>\n",
        "    <tr>\n",
        "      <th>0  </th>\n",
        "      <td> 155</td>\n",
        "      <td> 167</td>\n",
        "    </tr>\n",
        "    <tr>\n",
        "      <th>1  </th>\n",
        "      <td>  41</td>\n",
        "      <td>  36</td>\n",
        "    </tr>\n",
        "    <tr>\n",
        "      <th>2  </th>\n",
        "      <td>  26</td>\n",
        "      <td>  22</td>\n",
        "    </tr>\n",
        "    <tr>\n",
        "      <th>3  </th>\n",
        "      <td>  19</td>\n",
        "      <td>  20</td>\n",
        "    </tr>\n",
        "    <tr>\n",
        "      <th>4  </th>\n",
        "      <td>  15</td>\n",
        "      <td>  13</td>\n",
        "    </tr>\n",
        "    <tr>\n",
        "      <th>5  </th>\n",
        "      <td>  13</td>\n",
        "      <td>  11</td>\n",
        "    </tr>\n",
        "    <tr>\n",
        "      <th>6  </th>\n",
        "      <td>  11</td>\n",
        "      <td>   7</td>\n",
        "    </tr>\n",
        "    <tr>\n",
        "      <th>7  </th>\n",
        "      <td>  10</td>\n",
        "      <td>  12</td>\n",
        "    </tr>\n",
        "    <tr>\n",
        "      <th>8  </th>\n",
        "      <td>   9</td>\n",
        "      <td>   5</td>\n",
        "    </tr>\n",
        "    <tr>\n",
        "      <th>9  </th>\n",
        "      <td>   8</td>\n",
        "      <td>  10</td>\n",
        "    </tr>\n",
        "    <tr>\n",
        "      <th>10 </th>\n",
        "      <td>   7</td>\n",
        "      <td>   7</td>\n",
        "    </tr>\n",
        "    <tr>\n",
        "      <th>11 </th>\n",
        "      <td>   7</td>\n",
        "      <td>   7</td>\n",
        "    </tr>\n",
        "    <tr>\n",
        "      <th>12 </th>\n",
        "      <td>   6</td>\n",
        "      <td>   4</td>\n",
        "    </tr>\n",
        "    <tr>\n",
        "      <th>13 </th>\n",
        "      <td>   6</td>\n",
        "      <td>   6</td>\n",
        "    </tr>\n",
        "    <tr>\n",
        "      <th>14 </th>\n",
        "      <td>   5</td>\n",
        "      <td>   4</td>\n",
        "    </tr>\n",
        "    <tr>\n",
        "      <th>15 </th>\n",
        "      <td>   5</td>\n",
        "      <td>   3</td>\n",
        "    </tr>\n",
        "    <tr>\n",
        "      <th>16 </th>\n",
        "      <td>   5</td>\n",
        "      <td>   4</td>\n",
        "    </tr>\n",
        "    <tr>\n",
        "      <th>17 </th>\n",
        "      <td>   4</td>\n",
        "      <td>   7</td>\n",
        "    </tr>\n",
        "    <tr>\n",
        "      <th>18 </th>\n",
        "      <td>   4</td>\n",
        "      <td>  11</td>\n",
        "    </tr>\n",
        "    <tr>\n",
        "      <th>19 </th>\n",
        "      <td>   4</td>\n",
        "      <td>   4</td>\n",
        "    </tr>\n",
        "    <tr>\n",
        "      <th>20 </th>\n",
        "      <td>   4</td>\n",
        "      <td>   4</td>\n",
        "    </tr>\n",
        "    <tr>\n",
        "      <th>21 </th>\n",
        "      <td>   3</td>\n",
        "      <td>   5</td>\n",
        "    </tr>\n",
        "    <tr>\n",
        "      <th>22 </th>\n",
        "      <td>   3</td>\n",
        "      <td>   4</td>\n",
        "    </tr>\n",
        "    <tr>\n",
        "      <th>23 </th>\n",
        "      <td>   3</td>\n",
        "      <td>   2</td>\n",
        "    </tr>\n",
        "    <tr>\n",
        "      <th>24 </th>\n",
        "      <td>   3</td>\n",
        "      <td>   2</td>\n",
        "    </tr>\n",
        "    <tr>\n",
        "      <th>25 </th>\n",
        "      <td>   3</td>\n",
        "      <td>   6</td>\n",
        "    </tr>\n",
        "    <tr>\n",
        "      <th>26 </th>\n",
        "      <td>   3</td>\n",
        "      <td>   2</td>\n",
        "    </tr>\n",
        "    <tr>\n",
        "      <th>27 </th>\n",
        "      <td>   3</td>\n",
        "      <td>   2</td>\n",
        "    </tr>\n",
        "    <tr>\n",
        "      <th>28 </th>\n",
        "      <td>   2</td>\n",
        "      <td>   4</td>\n",
        "    </tr>\n",
        "    <tr>\n",
        "      <th>29 </th>\n",
        "      <td>   2</td>\n",
        "      <td>   2</td>\n",
        "    </tr>\n",
        "    <tr>\n",
        "      <th>...</th>\n",
        "      <td>...</td>\n",
        "      <td>...</td>\n",
        "    </tr>\n",
        "    <tr>\n",
        "      <th>315</th>\n",
        "      <td>   0</td>\n",
        "      <td>   0</td>\n",
        "    </tr>\n",
        "    <tr>\n",
        "      <th>316</th>\n",
        "      <td>   0</td>\n",
        "      <td>   0</td>\n",
        "    </tr>\n",
        "    <tr>\n",
        "      <th>317</th>\n",
        "      <td>   0</td>\n",
        "      <td>   0</td>\n",
        "    </tr>\n",
        "    <tr>\n",
        "      <th>318</th>\n",
        "      <td>   0</td>\n",
        "      <td>   0</td>\n",
        "    </tr>\n",
        "    <tr>\n",
        "      <th>319</th>\n",
        "      <td>   0</td>\n",
        "      <td>   0</td>\n",
        "    </tr>\n",
        "    <tr>\n",
        "      <th>320</th>\n",
        "      <td>   0</td>\n",
        "      <td>   0</td>\n",
        "    </tr>\n",
        "    <tr>\n",
        "      <th>321</th>\n",
        "      <td>   0</td>\n",
        "      <td>   0</td>\n",
        "    </tr>\n",
        "    <tr>\n",
        "      <th>322</th>\n",
        "      <td>   0</td>\n",
        "      <td>   0</td>\n",
        "    </tr>\n",
        "    <tr>\n",
        "      <th>323</th>\n",
        "      <td>   0</td>\n",
        "      <td>   0</td>\n",
        "    </tr>\n",
        "    <tr>\n",
        "      <th>324</th>\n",
        "      <td>   0</td>\n",
        "      <td>   0</td>\n",
        "    </tr>\n",
        "    <tr>\n",
        "      <th>325</th>\n",
        "      <td>   0</td>\n",
        "      <td>   0</td>\n",
        "    </tr>\n",
        "    <tr>\n",
        "      <th>326</th>\n",
        "      <td>   0</td>\n",
        "      <td>   0</td>\n",
        "    </tr>\n",
        "    <tr>\n",
        "      <th>327</th>\n",
        "      <td>   0</td>\n",
        "      <td>   0</td>\n",
        "    </tr>\n",
        "    <tr>\n",
        "      <th>328</th>\n",
        "      <td>   0</td>\n",
        "      <td>   0</td>\n",
        "    </tr>\n",
        "    <tr>\n",
        "      <th>329</th>\n",
        "      <td>   0</td>\n",
        "      <td>   0</td>\n",
        "    </tr>\n",
        "    <tr>\n",
        "      <th>330</th>\n",
        "      <td>   0</td>\n",
        "      <td>   0</td>\n",
        "    </tr>\n",
        "    <tr>\n",
        "      <th>331</th>\n",
        "      <td>   0</td>\n",
        "      <td>   0</td>\n",
        "    </tr>\n",
        "    <tr>\n",
        "      <th>332</th>\n",
        "      <td>   0</td>\n",
        "      <td>   0</td>\n",
        "    </tr>\n",
        "    <tr>\n",
        "      <th>333</th>\n",
        "      <td>   0</td>\n",
        "      <td>   0</td>\n",
        "    </tr>\n",
        "    <tr>\n",
        "      <th>334</th>\n",
        "      <td>   0</td>\n",
        "      <td>   0</td>\n",
        "    </tr>\n",
        "    <tr>\n",
        "      <th>335</th>\n",
        "      <td>   0</td>\n",
        "      <td>   0</td>\n",
        "    </tr>\n",
        "    <tr>\n",
        "      <th>336</th>\n",
        "      <td>   0</td>\n",
        "      <td>   0</td>\n",
        "    </tr>\n",
        "    <tr>\n",
        "      <th>337</th>\n",
        "      <td>   0</td>\n",
        "      <td>   0</td>\n",
        "    </tr>\n",
        "    <tr>\n",
        "      <th>338</th>\n",
        "      <td>   0</td>\n",
        "      <td>   0</td>\n",
        "    </tr>\n",
        "    <tr>\n",
        "      <th>339</th>\n",
        "      <td>   0</td>\n",
        "      <td>   0</td>\n",
        "    </tr>\n",
        "    <tr>\n",
        "      <th>340</th>\n",
        "      <td>   0</td>\n",
        "      <td>   0</td>\n",
        "    </tr>\n",
        "    <tr>\n",
        "      <th>341</th>\n",
        "      <td>   0</td>\n",
        "      <td>   0</td>\n",
        "    </tr>\n",
        "    <tr>\n",
        "      <th>342</th>\n",
        "      <td>   0</td>\n",
        "      <td>   0</td>\n",
        "    </tr>\n",
        "    <tr>\n",
        "      <th>343</th>\n",
        "      <td>   0</td>\n",
        "      <td>   0</td>\n",
        "    </tr>\n",
        "    <tr>\n",
        "      <th>344</th>\n",
        "      <td>   0</td>\n",
        "      <td>   0</td>\n",
        "    </tr>\n",
        "  </tbody>\n",
        "</table>\n",
        "<p>345 rows \u00d7 2 columns</p>\n",
        "</div>"
       ],
       "metadata": {},
       "output_type": "pyout",
       "prompt_number": 229,
       "text": [
        "     pred  emp\n",
        "0     155  167\n",
        "1      41   36\n",
        "2      26   22\n",
        "3      19   20\n",
        "4      15   13\n",
        "5      13   11\n",
        "6      11    7\n",
        "7      10   12\n",
        "8       9    5\n",
        "9       8   10\n",
        "10      7    7\n",
        "11      7    7\n",
        "12      6    4\n",
        "13      6    6\n",
        "14      5    4\n",
        "15      5    3\n",
        "16      5    4\n",
        "17      4    7\n",
        "18      4   11\n",
        "19      4    4\n",
        "20      4    4\n",
        "21      3    5\n",
        "22      3    4\n",
        "23      3    2\n",
        "24      3    2\n",
        "25      3    6\n",
        "26      3    2\n",
        "27      3    2\n",
        "28      2    4\n",
        "29      2    2\n",
        "..    ...  ...\n",
        "315     0    0\n",
        "316     0    0\n",
        "317     0    0\n",
        "318     0    0\n",
        "319     0    0\n",
        "320     0    0\n",
        "321     0    0\n",
        "322     0    0\n",
        "323     0    0\n",
        "324     0    0\n",
        "325     0    0\n",
        "326     0    0\n",
        "327     0    0\n",
        "328     0    0\n",
        "329     0    0\n",
        "330     0    0\n",
        "331     0    0\n",
        "332     0    0\n",
        "333     0    0\n",
        "334     0    0\n",
        "335     0    0\n",
        "336     0    0\n",
        "337     0    0\n",
        "338     0    0\n",
        "339     0    0\n",
        "340     0    0\n",
        "341     0    0\n",
        "342     0    0\n",
        "343     0    0\n",
        "344     0    0\n",
        "\n",
        "[345 rows x 2 columns]"
       ]
      }
     ],
     "prompt_number": 229
    },
    {
     "cell_type": "code",
     "collapsed": false,
     "input": [
      "rc_data['worms'].value_counts()"
     ],
     "language": "python",
     "metadata": {},
     "outputs": [
      {
       "metadata": {},
       "output_type": "pyout",
       "prompt_number": 143,
       "text": [
        "0     167\n",
        "1      36\n",
        "2      22\n",
        "3      20\n",
        "4      13\n",
        "7      12\n",
        "5      11\n",
        "18     11\n",
        "9      10\n",
        "10      7\n",
        "11      7\n",
        "17      7\n",
        "6       7\n",
        "13      6\n",
        "25      6\n",
        "...\n",
        "66     1\n",
        "64     1\n",
        "63     1\n",
        "38     1\n",
        "58     1\n",
        "57     1\n",
        "56     1\n",
        "51     1\n",
        "50     1\n",
        "176    1\n",
        "30     1\n",
        "45     1\n",
        "41     1\n",
        "39     1\n",
        "125    1\n",
        "Length: 74, dtype: int64"
       ]
      }
     ],
     "prompt_number": 143
    }
   ],
   "metadata": {}
  }
 ]
}