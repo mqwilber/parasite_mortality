{
 "metadata": {
  "name": "",
  "signature": "sha256:03ee830de36ab6a5871d8164b5d035b4ab58c029241771beaf251991f3067def"
 },
 "nbformat": 3,
 "nbformat_minor": 0,
 "worksheets": [
  {
   "cells": [
    {
     "cell_type": "markdown",
     "metadata": {},
     "source": [
      "# Simulation results for comparing Adjei Method and Weinstein and Wilbers alternative methods\n",
      "\n",
      "2-1-2014, Mark Wilber"
     ]
    },
    {
     "cell_type": "code",
     "collapsed": false,
     "input": [
      "import crofton_method as cfm\n",
      "import pandas as pd\n",
      "reload(cfm)\n",
      "%pylab inline"
     ],
     "language": "python",
     "metadata": {},
     "outputs": [
      {
       "output_type": "stream",
       "stream": "stdout",
       "text": [
        "Populating the interactive namespace from numpy and matplotlib\n"
       ]
      }
     ],
     "prompt_number": 1
    },
    {
     "cell_type": "markdown",
     "metadata": {},
     "source": [
      "# Scenario I: Known pre-mortality parameters"
     ]
    },
    {
     "cell_type": "markdown",
     "metadata": {},
     "source": [
      "## First Combination\n",
      "\n",
      "Looking at how our best case scenario varies with sample size given the following parameters: k = 1, a = 20, b = -10, mu=10, N_p = [300, 500, 800, 1000, 2000, 5000, 7500, 10000, 50000]"
     ]
    },
    {
     "cell_type": "code",
     "collapsed": false,
     "input": [
      "# Simulate data for best-case-scenario1.  Fixed LD50 and N_p\n",
      "a = 20\n",
      "b = -10\n",
      "k = 1\n",
      "mu = 10\n",
      "N_vals = [300, 500, 1000, 2000, 5000, 7500, 10000] # Sample size\n",
      "SAMP = 150"
     ],
     "language": "python",
     "metadata": {},
     "outputs": [],
     "prompt_number": 23
    },
    {
     "cell_type": "code",
     "collapsed": false,
     "input": [
      "# Run the simulation and fitting procedure for the first combo\n",
      "plot_vals_full_sim, N_avgs_full_sim = cfm.simulate_over_np(N_vals, mu, k, a, b, SAMP) "
     ],
     "language": "python",
     "metadata": {},
     "outputs": [
      {
       "output_type": "stream",
       "stream": "stdout",
       "text": [
        "Starting N = 300\n",
        "Starting N = 500"
       ]
      },
      {
       "output_type": "stream",
       "stream": "stdout",
       "text": [
        "\n",
        "Starting N = 1000"
       ]
      },
      {
       "output_type": "stream",
       "stream": "stdout",
       "text": [
        "\n",
        "Starting N = 2000"
       ]
      },
      {
       "output_type": "stream",
       "stream": "stdout",
       "text": [
        "\n",
        "Starting N = 5000"
       ]
      },
      {
       "output_type": "stream",
       "stream": "stdout",
       "text": [
        "\n",
        "Starting N = 7500"
       ]
      },
      {
       "output_type": "stream",
       "stream": "stdout",
       "text": [
        "\n",
        "Starting N = 10000"
       ]
      },
      {
       "output_type": "stream",
       "stream": "stdout",
       "text": [
        "\n"
       ]
      }
     ],
     "prompt_number": 24
    },
    {
     "cell_type": "code",
     "collapsed": false,
     "input": [
      "# Save the results\n",
      "pd.to_pickle(plot_vals_full_sim, \"../results/without_crofton_fit_multiple_Np.pkl\")\n",
      "pd.to_pickle(N_avgs_full_sim, \"../results/without_crofton_fit_multiple_Np_Navgs.pkl\")"
     ],
     "language": "python",
     "metadata": {},
     "outputs": [],
     "prompt_number": 21
    },
    {
     "cell_type": "code",
     "collapsed": false,
     "input": [
      "plot_vals_full_sim = pd.read_pickle(\"../results/without_crofton_fit_multiple_Npa.pkl\")\n",
      "N_avgs_full_sim = pd.read_pickle(\"../results/without_crofton_fit_multiple_Np_Navgsa.pkl\")"
     ],
     "language": "python",
     "metadata": {},
     "outputs": [],
     "prompt_number": 20
    },
    {
     "cell_type": "markdown",
     "metadata": {},
     "source": [
      "## Second combination\n",
      "\n",
      "Same simulation as the first combo except using a=10 and b=-5"
     ]
    },
    {
     "cell_type": "code",
     "collapsed": false,
     "input": [
      "# Simulate data for best-case-scenario1.  Fixed LD50 and N_p\n",
      "a = 10\n",
      "b = -5\n",
      "k = 1\n",
      "mu = 10\n",
      "N_vals = [300, 500, 1000, 2000, 5000, 7500, 10000] # Sample size\n",
      "SAMP = 150"
     ],
     "language": "python",
     "metadata": {},
     "outputs": [],
     "prompt_number": 14
    },
    {
     "cell_type": "code",
     "collapsed": false,
     "input": [
      "# Run the simulation and fitting procedure\n",
      "plot_vals_full_sim2, N_avgs_full_sim2 = cfm.simulate_over_np(N_vals, mu, k, a, b, SAMP)"
     ],
     "language": "python",
     "metadata": {},
     "outputs": [
      {
       "output_type": "stream",
       "stream": "stdout",
       "text": [
        "Starting N = 300\n",
        "Starting N = 500"
       ]
      },
      {
       "output_type": "stream",
       "stream": "stdout",
       "text": [
        "\n",
        "Starting N = 1000"
       ]
      },
      {
       "output_type": "stream",
       "stream": "stdout",
       "text": [
        "\n",
        "Starting N = 2000"
       ]
      },
      {
       "output_type": "stream",
       "stream": "stdout",
       "text": [
        "\n",
        "Starting N = 5000"
       ]
      },
      {
       "output_type": "stream",
       "stream": "stdout",
       "text": [
        "\n",
        "Starting N = 7500"
       ]
      },
      {
       "output_type": "stream",
       "stream": "stdout",
       "text": [
        "\n",
        "Starting N = 10000"
       ]
      },
      {
       "output_type": "stream",
       "stream": "stdout",
       "text": [
        "\n"
       ]
      }
     ],
     "prompt_number": 15
    },
    {
     "cell_type": "code",
     "collapsed": false,
     "input": [
      "# Save the results\n",
      "pd.to_pickle(plot_vals_full_sim2, \"../results/without_crofton_fit_multiple_Np2.pkl\")\n",
      "pd.to_pickle(N_avgs_full_sim2, \"../results/without_crofton_fit_multiple_Np_Navgs2.pkl\")"
     ],
     "language": "python",
     "metadata": {},
     "outputs": [],
     "prompt_number": 16
    },
    {
     "cell_type": "markdown",
     "metadata": {},
     "source": [
      "## Third combination\n",
      "\n",
      "Using a = 30 b = -15"
     ]
    },
    {
     "cell_type": "code",
     "collapsed": false,
     "input": [
      "a = 30\n",
      "b = -15\n",
      "k = 1\n",
      "mu = 10\n",
      "N_vals = [300, 500, 1000, 2000, 5000, 7500, 10000] # Sample size\n",
      "SAMP = 150"
     ],
     "language": "python",
     "metadata": {},
     "outputs": [],
     "prompt_number": 17
    },
    {
     "cell_type": "code",
     "collapsed": false,
     "input": [
      "# Run the simulation and fitting procedure\n",
      "plot_vals_full_sim3, N_avgs_full_sim3 = cfm.simulate_over_np(N_vals, mu, k, a, b, SAMP)"
     ],
     "language": "python",
     "metadata": {},
     "outputs": [
      {
       "output_type": "stream",
       "stream": "stdout",
       "text": [
        "Starting N = 300\n",
        "Starting N = 500"
       ]
      },
      {
       "output_type": "stream",
       "stream": "stdout",
       "text": [
        "\n",
        "Starting N = 1000"
       ]
      },
      {
       "output_type": "stream",
       "stream": "stdout",
       "text": [
        "\n",
        "Starting N = 2000"
       ]
      },
      {
       "output_type": "stream",
       "stream": "stdout",
       "text": [
        "\n",
        "Starting N = 5000"
       ]
      },
      {
       "output_type": "stream",
       "stream": "stdout",
       "text": [
        "\n",
        "Starting N = 7500"
       ]
      },
      {
       "output_type": "stream",
       "stream": "stdout",
       "text": [
        "\n",
        "Starting N = 10000"
       ]
      },
      {
       "output_type": "stream",
       "stream": "stdout",
       "text": [
        "\n"
       ]
      }
     ],
     "prompt_number": 18
    },
    {
     "cell_type": "code",
     "collapsed": false,
     "input": [
      "# Save the results\n",
      "pd.to_pickle(plot_vals_full_sim3, \"../results/without_crofton_fit_multiple_Np3.pkl\")\n",
      "pd.to_pickle(N_avgs_full_sim3, \"../results/without_crofton_fit_multiple_Np_Navgs3.pkl\")"
     ],
     "language": "python",
     "metadata": {},
     "outputs": [],
     "prompt_number": 22
    },
    {
     "cell_type": "markdown",
     "metadata": {},
     "source": [
      "### Same scenario but now with k = 0.5"
     ]
    },
    {
     "cell_type": "code",
     "collapsed": false,
     "input": [
      "# Simulate data for best-case-scenario1.  Fixed LD50 and N_p\n",
      "a = 20\n",
      "b = -10\n",
      "k = 0.5\n",
      "mu = 10\n",
      "N_vals = [300, 500, 1000, 2000, 5000, 7500, 10000] # Sample size\n",
      "SAMP = 150"
     ],
     "language": "python",
     "metadata": {},
     "outputs": [],
     "prompt_number": 10
    },
    {
     "cell_type": "code",
     "collapsed": false,
     "input": [
      "# Run the simulation and fitting procedure for the first combo\n",
      "plot_vals_full_sim_kpoint5, N_avgs_full_sim_kpoint5 = cfm.simulate_over_np(N_vals, mu, k, a, b, SAMP) "
     ],
     "language": "python",
     "metadata": {},
     "outputs": [
      {
       "output_type": "stream",
       "stream": "stdout",
       "text": [
        "Starting N = 300\n",
        "Starting N = 500"
       ]
      },
      {
       "output_type": "stream",
       "stream": "stdout",
       "text": [
        "\n",
        "Starting N = 1000"
       ]
      },
      {
       "output_type": "stream",
       "stream": "stdout",
       "text": [
        "\n",
        "Starting N = 2000"
       ]
      },
      {
       "output_type": "stream",
       "stream": "stdout",
       "text": [
        "\n",
        "Starting N = 5000"
       ]
      },
      {
       "output_type": "stream",
       "stream": "stdout",
       "text": [
        "\n",
        "Starting N = 7500"
       ]
      },
      {
       "output_type": "stream",
       "stream": "stdout",
       "text": [
        "\n",
        "Starting N = 10000"
       ]
      },
      {
       "output_type": "stream",
       "stream": "stdout",
       "text": [
        "\n"
       ]
      }
     ],
     "prompt_number": 11
    },
    {
     "cell_type": "code",
     "collapsed": false,
     "input": [
      "# Save the results\n",
      "pd.to_pickle(plot_vals_full_sim_kpoint5, \"../results/without_crofton_fit_multiple_Np_kpoint5_1.pkl\")\n",
      "pd.to_pickle(N_avgs_full_sim_kpoint5, \"../results/without_crofton_fit_multiple_Np_Navgs_kpoint5_1.pkl\")"
     ],
     "language": "python",
     "metadata": {},
     "outputs": [],
     "prompt_number": 12
    },
    {
     "cell_type": "code",
     "collapsed": false,
     "input": [
      "# Simulate data for best-case-scenario1.  Fixed LD50 and N_p\n",
      "a = 10\n",
      "b = -5\n",
      "k = 0.5\n",
      "mu = 10\n",
      "N_vals = [300, 500, 1000, 2000, 5000, 7500, 10000] # Sample size\n",
      "SAMP = 150"
     ],
     "language": "python",
     "metadata": {},
     "outputs": [],
     "prompt_number": 13
    },
    {
     "cell_type": "code",
     "collapsed": false,
     "input": [
      "# Run the simulation and fitting procedure for the first combo\n",
      "plot_vals_full_sim_kpoint5_2, N_avgs_full_sim_kpoint5_2 = cfm.simulate_over_np(N_vals, mu, k, a, b, SAMP) "
     ],
     "language": "python",
     "metadata": {},
     "outputs": [
      {
       "output_type": "stream",
       "stream": "stdout",
       "text": [
        "Starting N = 300\n",
        "Starting N = 500"
       ]
      },
      {
       "output_type": "stream",
       "stream": "stdout",
       "text": [
        "\n",
        "Starting N = 1000"
       ]
      },
      {
       "output_type": "stream",
       "stream": "stdout",
       "text": [
        "\n",
        "Starting N = 2000"
       ]
      },
      {
       "output_type": "stream",
       "stream": "stdout",
       "text": [
        "\n",
        "Starting N = 5000"
       ]
      },
      {
       "output_type": "stream",
       "stream": "stdout",
       "text": [
        "\n",
        "Starting N = 7500"
       ]
      },
      {
       "output_type": "stream",
       "stream": "stdout",
       "text": [
        "\n",
        "Starting N = 10000"
       ]
      },
      {
       "output_type": "stream",
       "stream": "stdout",
       "text": [
        "\n"
       ]
      }
     ],
     "prompt_number": 14
    },
    {
     "cell_type": "code",
     "collapsed": false,
     "input": [
      "# Save the results\n",
      "pd.to_pickle(plot_vals_full_sim_kpoint5_2, \"../results/without_crofton_fit_multiple_Np_kpoint5_2.pkl\")\n",
      "pd.to_pickle(N_avgs_full_sim_kpoint5_2, \"../results/without_crofton_fit_multiple_Np_Navgs_kpoint5_2.pkl\")"
     ],
     "language": "python",
     "metadata": {},
     "outputs": [],
     "prompt_number": 15
    },
    {
     "cell_type": "code",
     "collapsed": false,
     "input": [
      "# Simulate data for best-case-scenario1.  Fixed LD50 and N_p\n",
      "a = 30\n",
      "b = -15\n",
      "k = 0.5\n",
      "mu = 10\n",
      "N_vals = [300, 500, 1000, 2000, 5000, 7500, 10000] # Sample size\n",
      "SAMP = 150"
     ],
     "language": "python",
     "metadata": {},
     "outputs": [],
     "prompt_number": 17
    },
    {
     "cell_type": "code",
     "collapsed": false,
     "input": [
      "# Run the simulation and fitting procedure for the first combo\n",
      "plot_vals_full_sim_kpoint5_3, N_avgs_full_sim_kpoint5_3 = cfm.simulate_over_np(N_vals, mu, k, a, b, SAMP) "
     ],
     "language": "python",
     "metadata": {},
     "outputs": [
      {
       "output_type": "stream",
       "stream": "stdout",
       "text": [
        "Starting N = 300\n",
        "Starting N = 500"
       ]
      },
      {
       "output_type": "stream",
       "stream": "stdout",
       "text": [
        "\n",
        "Starting N = 1000"
       ]
      },
      {
       "output_type": "stream",
       "stream": "stdout",
       "text": [
        "\n",
        "Starting N = 2000"
       ]
      },
      {
       "output_type": "stream",
       "stream": "stdout",
       "text": [
        "\n",
        "Starting N = 5000"
       ]
      },
      {
       "output_type": "stream",
       "stream": "stdout",
       "text": [
        "\n",
        "Starting N = 7500"
       ]
      },
      {
       "output_type": "stream",
       "stream": "stdout",
       "text": [
        "\n",
        "Starting N = 10000"
       ]
      },
      {
       "output_type": "stream",
       "stream": "stdout",
       "text": [
        "\n"
       ]
      }
     ],
     "prompt_number": 18
    },
    {
     "cell_type": "code",
     "collapsed": false,
     "input": [
      "# Save the results\n",
      "pd.to_pickle(plot_vals_full_sim_kpoint5_3, \"../results/without_crofton_fit_multiple_Np_kpoint5_3.pkl\")\n",
      "pd.to_pickle(N_avgs_full_sim_kpoint5_3, \"../results/without_crofton_fit_multiple_Np_Navgs_kpoint5_3.pkl\")"
     ],
     "language": "python",
     "metadata": {},
     "outputs": [],
     "prompt_number": 20
    },
    {
     "cell_type": "markdown",
     "metadata": {},
     "source": [
      "## Same scenario but with k = 0.1"
     ]
    },
    {
     "cell_type": "code",
     "collapsed": false,
     "input": [
      "# Simulate data for best-case-scenario1.  Fixed LD50 and N_p\n",
      "a = 20\n",
      "b = -10\n",
      "k = 0.1\n",
      "mu = 10\n",
      "N_vals = [300, 500, 1000, 2000, 5000, 7500, 10000] # Sample size\n",
      "SAMP = 150"
     ],
     "language": "python",
     "metadata": {},
     "outputs": [],
     "prompt_number": 2
    },
    {
     "cell_type": "code",
     "collapsed": false,
     "input": [
      "# Run the simulation and fitting procedure for the first combo\n",
      "plot_vals_full_sim_kpoint1, N_avgs_full_sim_kpoint1 = cfm.simulate_over_np(N_vals, mu, k, a, b, SAMP) "
     ],
     "language": "python",
     "metadata": {},
     "outputs": [
      {
       "output_type": "stream",
       "stream": "stdout",
       "text": [
        "Starting N = 300\n",
        "Starting N = 500"
       ]
      },
      {
       "output_type": "stream",
       "stream": "stdout",
       "text": [
        "\n",
        "Starting N = 1000"
       ]
      },
      {
       "output_type": "stream",
       "stream": "stdout",
       "text": [
        "\n",
        "Starting N = 2000"
       ]
      },
      {
       "output_type": "stream",
       "stream": "stdout",
       "text": [
        "\n",
        "Starting N = 5000"
       ]
      },
      {
       "output_type": "stream",
       "stream": "stdout",
       "text": [
        "\n",
        "Starting N = 7500"
       ]
      },
      {
       "output_type": "stream",
       "stream": "stdout",
       "text": [
        "\n",
        "Starting N = 10000"
       ]
      },
      {
       "output_type": "stream",
       "stream": "stdout",
       "text": [
        "\n"
       ]
      }
     ],
     "prompt_number": 3
    },
    {
     "cell_type": "code",
     "collapsed": false,
     "input": [
      "# Save the results\n",
      "pd.to_pickle(plot_vals_full_sim_kpoint1, \"../results/without_crofton_fit_multiple_Np_kpoint1_1.pkl\")\n",
      "pd.to_pickle(N_avgs_full_sim_kpoint1, \"../results/without_crofton_fit_multiple_Np_Navgs_kpoint1_1.pkl\")"
     ],
     "language": "python",
     "metadata": {},
     "outputs": [],
     "prompt_number": 4
    },
    {
     "cell_type": "code",
     "collapsed": false,
     "input": [
      "# Simulate data for best-case-scenario1.  Fixed LD50 and N_p\n",
      "a = 10\n",
      "b = -5\n",
      "k = 0.1\n",
      "mu = 10\n",
      "N_vals = [300, 500, 1000, 2000, 5000, 7500, 10000] # Sample size\n",
      "SAMP = 150"
     ],
     "language": "python",
     "metadata": {},
     "outputs": [],
     "prompt_number": 5
    },
    {
     "cell_type": "code",
     "collapsed": false,
     "input": [
      "# Run the simulation and fitting procedure for the first combo\n",
      "plot_vals_full_sim_kpoint1_2, N_avgs_full_sim_kpoint1_2 = cfm.simulate_over_np(N_vals, mu, k, a, b, SAMP) "
     ],
     "language": "python",
     "metadata": {},
     "outputs": [
      {
       "output_type": "stream",
       "stream": "stdout",
       "text": [
        "Starting N = 300\n",
        "Starting N = 500"
       ]
      },
      {
       "output_type": "stream",
       "stream": "stdout",
       "text": [
        "\n",
        "Starting N = 1000"
       ]
      },
      {
       "output_type": "stream",
       "stream": "stdout",
       "text": [
        "\n",
        "Starting N = 2000"
       ]
      },
      {
       "output_type": "stream",
       "stream": "stdout",
       "text": [
        "\n",
        "Starting N = 5000"
       ]
      },
      {
       "output_type": "stream",
       "stream": "stdout",
       "text": [
        "\n",
        "Starting N = 7500"
       ]
      },
      {
       "output_type": "stream",
       "stream": "stdout",
       "text": [
        "\n",
        "Starting N = 10000"
       ]
      },
      {
       "output_type": "stream",
       "stream": "stdout",
       "text": [
        "\n"
       ]
      }
     ],
     "prompt_number": 6
    },
    {
     "cell_type": "code",
     "collapsed": false,
     "input": [
      "# Save the results\n",
      "pd.to_pickle(plot_vals_full_sim_kpoint1_2, \"../results/without_crofton_fit_multiple_Np_kpoint1_2.pkl\")\n",
      "pd.to_pickle(N_avgs_full_sim_kpoint1_2, \"../results/without_crofton_fit_multiple_Np_Navgs_kpoint1_2.pkl\")"
     ],
     "language": "python",
     "metadata": {},
     "outputs": [],
     "prompt_number": 7
    },
    {
     "cell_type": "code",
     "collapsed": false,
     "input": [
      "# Simulate data for best-case-scenario1.  Fixed LD50 and N_p\n",
      "a = 30\n",
      "b = -15\n",
      "k = 0.1\n",
      "mu = 10\n",
      "N_vals = [300, 500, 1000, 2000, 5000, 7500, 10000] # Sample size\n",
      "SAMP = 150"
     ],
     "language": "python",
     "metadata": {},
     "outputs": [],
     "prompt_number": 8
    },
    {
     "cell_type": "code",
     "collapsed": false,
     "input": [
      "# Run the simulation and fitting procedure for the first combo\n",
      "plot_vals_full_sim_kpoint1_3, N_avgs_full_sim_kpoint1_3 = cfm.simulate_over_np(N_vals, mu, k, a, b, SAMP) "
     ],
     "language": "python",
     "metadata": {},
     "outputs": [
      {
       "output_type": "stream",
       "stream": "stdout",
       "text": [
        "Starting N = 300\n",
        "Starting N = 500"
       ]
      },
      {
       "output_type": "stream",
       "stream": "stdout",
       "text": [
        "\n",
        "Starting N = 1000"
       ]
      },
      {
       "output_type": "stream",
       "stream": "stdout",
       "text": [
        "\n",
        "Starting N = 2000"
       ]
      },
      {
       "output_type": "stream",
       "stream": "stdout",
       "text": [
        "\n",
        "Starting N = 5000"
       ]
      },
      {
       "output_type": "stream",
       "stream": "stdout",
       "text": [
        "\n",
        "Starting N = 7500"
       ]
      },
      {
       "output_type": "stream",
       "stream": "stdout",
       "text": [
        "\n",
        "Starting N = 10000"
       ]
      },
      {
       "output_type": "stream",
       "stream": "stdout",
       "text": [
        "\n"
       ]
      }
     ],
     "prompt_number": 9
    },
    {
     "cell_type": "code",
     "collapsed": false,
     "input": [
      "# Save the results\n",
      "pd.to_pickle(plot_vals_full_sim_kpoint1_3, \"../results/without_crofton_fit_multiple_Np_kpoint1_3.pkl\")\n",
      "pd.to_pickle(N_avgs_full_sim_kpoint1_3, \"../results/without_crofton_fit_multiple_Np_Navgs_kpoint1_3.pkl\")"
     ],
     "language": "python",
     "metadata": {},
     "outputs": [],
     "prompt_number": 10
    },
    {
     "cell_type": "markdown",
     "metadata": {},
     "source": [
      "# Scenario II: Unknown pre-mortality parameters\n",
      "\n",
      "In Scenario II we have to use Crofton's Method to first estimate N_p, mu_p, k_p and then estimate a and b from there."
     ]
    },
    {
     "cell_type": "code",
     "collapsed": false,
     "input": [
      "# Simulate data for best-case-scenario1.  Fixed LD50 and N_p\n",
      "a = 20\n",
      "b = -10\n",
      "k = 1\n",
      "mu = 10\n",
      "N_vals = [300, 500, 1000, 2000, 5000, 7500, 10000] # Sample size\n",
      "SAMP = 150"
     ],
     "language": "python",
     "metadata": {},
     "outputs": [],
     "prompt_number": 39
    },
    {
     "cell_type": "code",
     "collapsed": false,
     "input": [
      "plot_vals_sim_nocrof, N_avgs_sim_nocrof = cfm.simulate_over_np(N_vals, mu, k, a, b, SAMP, crof_params=False) "
     ],
     "language": "python",
     "metadata": {},
     "outputs": [
      {
       "output_type": "stream",
       "stream": "stdout",
       "text": [
        "Starting N = 300\n",
        "Starting N = 500"
       ]
      },
      {
       "output_type": "stream",
       "stream": "stdout",
       "text": [
        "\n",
        "Starting N = 1000"
       ]
      },
      {
       "output_type": "stream",
       "stream": "stdout",
       "text": [
        "\n",
        "Starting N = 2000"
       ]
      },
      {
       "output_type": "stream",
       "stream": "stdout",
       "text": [
        "\n",
        "Starting N = 5000"
       ]
      },
      {
       "output_type": "stream",
       "stream": "stdout",
       "text": [
        "\n",
        "Starting N = 7500"
       ]
      },
      {
       "output_type": "stream",
       "stream": "stdout",
       "text": [
        "\n",
        "Starting N = 10000"
       ]
      },
      {
       "output_type": "stream",
       "stream": "stdout",
       "text": [
        "\n"
       ]
      }
     ],
     "prompt_number": 40
    },
    {
     "cell_type": "code",
     "collapsed": false,
     "input": [
      "# Save the results\n",
      "pd.to_pickle(plot_vals_sim_nocrof, \"../results/with_crofton_fit_multiple_Np1.pkl\")\n",
      "pd.to_pickle(N_avgs_sim_nocrof, \"../results/with_crofton_fit_multiple_Np_Navgs1.pkl\")"
     ],
     "language": "python",
     "metadata": {},
     "outputs": [],
     "prompt_number": 42
    },
    {
     "cell_type": "code",
     "collapsed": false,
     "input": [
      "# Simulate data for best-case-scenario1.  Fixed LD50 and N_p\n",
      "a = 10\n",
      "b = -5\n",
      "k = 1\n",
      "mu = 10\n",
      "N_vals = [300, 500, 1000, 2000, 5000, 7500, 10000] # Sample size\n",
      "SAMP = 150"
     ],
     "language": "python",
     "metadata": {},
     "outputs": [],
     "prompt_number": 2
    },
    {
     "cell_type": "code",
     "collapsed": false,
     "input": [
      "plot_vals_sim_nocrof2, N_avgs_sim_nocrof2 = cfm.simulate_over_np(N_vals, mu, k, a, b, SAMP, crof_params=False) "
     ],
     "language": "python",
     "metadata": {},
     "outputs": [
      {
       "output_type": "stream",
       "stream": "stdout",
       "text": [
        "Starting N = 300\n",
        "Starting N = 500"
       ]
      },
      {
       "output_type": "stream",
       "stream": "stdout",
       "text": [
        "\n",
        "Starting N = 1000"
       ]
      },
      {
       "output_type": "stream",
       "stream": "stdout",
       "text": [
        "\n",
        "Starting N = 2000"
       ]
      },
      {
       "output_type": "stream",
       "stream": "stdout",
       "text": [
        "\n",
        "Starting N = 5000"
       ]
      },
      {
       "output_type": "stream",
       "stream": "stdout",
       "text": [
        "\n",
        "Starting N = 7500"
       ]
      },
      {
       "output_type": "stream",
       "stream": "stdout",
       "text": [
        "\n",
        "Starting N = 10000"
       ]
      },
      {
       "output_type": "stream",
       "stream": "stdout",
       "text": [
        "\n"
       ]
      }
     ],
     "prompt_number": 3
    },
    {
     "cell_type": "code",
     "collapsed": false,
     "input": [
      "# Save the results\n",
      "pd.to_pickle(plot_vals_sim_nocrof2, \"../results/with_crofton_fit_multiple_Np2.pkl\")\n",
      "pd.to_pickle(N_avgs_sim_nocrof2, \"../results/with_crofton_fit_multiple_Np_Navgs2.pkl\")"
     ],
     "language": "python",
     "metadata": {},
     "outputs": [],
     "prompt_number": 4
    },
    {
     "cell_type": "code",
     "collapsed": false,
     "input": [
      "a = 30\n",
      "b = -15\n",
      "k = 1\n",
      "mu = 10\n",
      "N_vals = [300, 500, 1000, 2000, 5000, 7500, 10000] # Sample size\n",
      "SAMP = 150"
     ],
     "language": "python",
     "metadata": {},
     "outputs": [],
     "prompt_number": 6
    },
    {
     "cell_type": "code",
     "collapsed": false,
     "input": [
      "plot_vals_sim_nocrof3, N_avgs_sim_nocrof3 = cfm.simulate_over_np(N_vals, mu, k, a, b, SAMP, crof_params=False) "
     ],
     "language": "python",
     "metadata": {},
     "outputs": [
      {
       "output_type": "stream",
       "stream": "stdout",
       "text": [
        "Starting N = 300\n",
        "Starting N = 500"
       ]
      },
      {
       "output_type": "stream",
       "stream": "stdout",
       "text": [
        "\n",
        "Starting N = 1000"
       ]
      },
      {
       "output_type": "stream",
       "stream": "stdout",
       "text": [
        "\n",
        "Starting N = 2000"
       ]
      },
      {
       "output_type": "stream",
       "stream": "stdout",
       "text": [
        "\n",
        "Starting N = 5000"
       ]
      },
      {
       "output_type": "stream",
       "stream": "stdout",
       "text": [
        "\n",
        "Starting N = 7500"
       ]
      },
      {
       "output_type": "stream",
       "stream": "stdout",
       "text": [
        "\n",
        "Starting N = 10000"
       ]
      },
      {
       "output_type": "stream",
       "stream": "stdout",
       "text": [
        "\n"
       ]
      }
     ],
     "prompt_number": 7
    },
    {
     "cell_type": "code",
     "collapsed": false,
     "input": [
      "# Save the results\n",
      "pd.to_pickle(plot_vals_sim_nocrof3, \"../results/with_crofton_fit_multiple_Np3.pkl\")\n",
      "pd.to_pickle(N_avgs_sim_nocrof3, \"../results/with_crofton_fit_multiple_Np_Navgs3.pkl\")"
     ],
     "language": "python",
     "metadata": {},
     "outputs": [],
     "prompt_number": 8
    },
    {
     "cell_type": "markdown",
     "metadata": {},
     "source": [
      "### Same as above (with Crofton Method) but now looking at k = 0.5"
     ]
    },
    {
     "cell_type": "code",
     "collapsed": false,
     "input": [
      "# Simulate data for best-case-scenario1.  Fixed LD50 and N_p\n",
      "a = 20\n",
      "b = -10\n",
      "k = 0.5\n",
      "mu = 10\n",
      "N_vals = [300, 500, 1000, 2000, 5000, 7500, 10000] # Sample size\n",
      "SAMP = 150"
     ],
     "language": "python",
     "metadata": {},
     "outputs": [],
     "prompt_number": 21
    },
    {
     "cell_type": "code",
     "collapsed": false,
     "input": [
      "plot_vals_sim_nocrof_kpoint5_1, N_avgs_sim_nocrof_kpoint5_1 = cfm.simulate_over_np(N_vals, mu, k, a, b, SAMP, crof_params=False) "
     ],
     "language": "python",
     "metadata": {},
     "outputs": [
      {
       "output_type": "stream",
       "stream": "stdout",
       "text": [
        "Starting N = 300\n",
        "Starting N = 500"
       ]
      },
      {
       "output_type": "stream",
       "stream": "stdout",
       "text": [
        "\n",
        "Starting N = 1000"
       ]
      },
      {
       "output_type": "stream",
       "stream": "stdout",
       "text": [
        "\n",
        "Starting N = 2000"
       ]
      },
      {
       "output_type": "stream",
       "stream": "stdout",
       "text": [
        "\n",
        "Starting N = 5000"
       ]
      },
      {
       "output_type": "stream",
       "stream": "stdout",
       "text": [
        "\n",
        "Starting N = 7500"
       ]
      },
      {
       "output_type": "stream",
       "stream": "stdout",
       "text": [
        "\n",
        "Starting N = 10000"
       ]
      },
      {
       "output_type": "stream",
       "stream": "stdout",
       "text": [
        "\n"
       ]
      }
     ],
     "prompt_number": 22
    },
    {
     "cell_type": "code",
     "collapsed": false,
     "input": [
      "# Save the results\n",
      "pd.to_pickle(plot_vals_sim_nocrof_kpoint5_1, \"../results/with_crofton_fit_multiple_Np_kpoint5_1.pkl\")\n",
      "pd.to_pickle(N_avgs_sim_nocrof_kpoint5_1, \"../results/with_crofton_fit_multiple_Np_Navgs_kpoint5_1.pkl\")"
     ],
     "language": "python",
     "metadata": {},
     "outputs": [],
     "prompt_number": 23
    },
    {
     "cell_type": "code",
     "collapsed": false,
     "input": [
      "# Simulate data for best-case-scenario1.  Fixed LD50 and N_p\n",
      "a = 10\n",
      "b = -5\n",
      "k = 0.5\n",
      "mu = 10\n",
      "N_vals = [300, 500, 1000, 2000, 5000, 7500, 10000] # Sample size\n",
      "SAMP = 150"
     ],
     "language": "python",
     "metadata": {},
     "outputs": [],
     "prompt_number": 24
    },
    {
     "cell_type": "code",
     "collapsed": false,
     "input": [
      "plot_vals_sim_nocrof_kpoint5_2, N_avgs_sim_nocrof_kpoint5_2 = cfm.simulate_over_np(N_vals, mu, k, a, b, SAMP, crof_params=False) "
     ],
     "language": "python",
     "metadata": {},
     "outputs": [
      {
       "output_type": "stream",
       "stream": "stdout",
       "text": [
        "Starting N = 300\n",
        "Starting N = 500"
       ]
      },
      {
       "output_type": "stream",
       "stream": "stdout",
       "text": [
        "\n",
        "Starting N = 1000"
       ]
      },
      {
       "output_type": "stream",
       "stream": "stdout",
       "text": [
        "\n",
        "Starting N = 2000"
       ]
      },
      {
       "output_type": "stream",
       "stream": "stdout",
       "text": [
        "\n",
        "Starting N = 5000"
       ]
      },
      {
       "output_type": "stream",
       "stream": "stdout",
       "text": [
        "\n",
        "Starting N = 7500"
       ]
      },
      {
       "output_type": "stream",
       "stream": "stdout",
       "text": [
        "\n",
        "Starting N = 10000"
       ]
      },
      {
       "output_type": "stream",
       "stream": "stdout",
       "text": [
        "\n"
       ]
      }
     ],
     "prompt_number": 25
    },
    {
     "cell_type": "code",
     "collapsed": false,
     "input": [
      "# Save the results\n",
      "pd.to_pickle(plot_vals_sim_nocrof_kpoint5_2, \"../results/with_crofton_fit_multiple_Np_kpoint5_2.pkl\")\n",
      "pd.to_pickle(N_avgs_sim_nocrof_kpoint5_2, \"../results/with_crofton_fit_multiple_Np_Navgs_kpoint5_2.pkl\")"
     ],
     "language": "python",
     "metadata": {},
     "outputs": [],
     "prompt_number": 26
    },
    {
     "cell_type": "code",
     "collapsed": false,
     "input": [
      "# Simulate data for best-case-scenario1.  Fixed LD50 and N_p\n",
      "a = 30\n",
      "b = -15\n",
      "k = 0.5\n",
      "mu = 10\n",
      "N_vals = [300, 500, 1000, 2000, 5000, 7500, 10000] # Sample size\n",
      "SAMP = 150"
     ],
     "language": "python",
     "metadata": {},
     "outputs": [],
     "prompt_number": 27
    },
    {
     "cell_type": "code",
     "collapsed": false,
     "input": [
      "plot_vals_sim_nocrof_kpoint5_3, N_avgs_sim_nocrof_kpoint5_3 = cfm.simulate_over_np(N_vals, mu, k, a, b, SAMP, crof_params=False) "
     ],
     "language": "python",
     "metadata": {},
     "outputs": [
      {
       "output_type": "stream",
       "stream": "stdout",
       "text": [
        "Starting N = 300\n",
        "Starting N = 500"
       ]
      },
      {
       "output_type": "stream",
       "stream": "stdout",
       "text": [
        "\n",
        "Starting N = 1000"
       ]
      },
      {
       "output_type": "stream",
       "stream": "stdout",
       "text": [
        "\n",
        "Starting N = 2000"
       ]
      },
      {
       "output_type": "stream",
       "stream": "stdout",
       "text": [
        "\n",
        "Starting N = 5000"
       ]
      },
      {
       "output_type": "stream",
       "stream": "stdout",
       "text": [
        "\n",
        "Starting N = 7500"
       ]
      },
      {
       "output_type": "stream",
       "stream": "stdout",
       "text": [
        "\n",
        "Starting N = 10000"
       ]
      },
      {
       "output_type": "stream",
       "stream": "stdout",
       "text": [
        "\n"
       ]
      }
     ],
     "prompt_number": 28
    },
    {
     "cell_type": "code",
     "collapsed": false,
     "input": [
      "# Save the results\n",
      "pd.to_pickle(plot_vals_sim_nocrof_kpoint5_3, \"../results/with_crofton_fit_multiple_Np_kpoint5_3.pkl\")\n",
      "pd.to_pickle(N_avgs_sim_nocrof_kpoint5_3, \"../results/with_crofton_fit_multiple_Np_Navgs_kpoint5_3.pkl\")"
     ],
     "language": "python",
     "metadata": {},
     "outputs": [],
     "prompt_number": 29
    },
    {
     "cell_type": "code",
     "collapsed": false,
     "input": [
      "Np = 1000\n",
      "mup = 10\n",
      "kp=1\n",
      "alive, _, td = cfm.get_alive_and_dead(Np, 2, -1, kp, mup)"
     ],
     "language": "python",
     "metadata": {},
     "outputs": [],
     "prompt_number": 111
    },
    {
     "cell_type": "code",
     "collapsed": false,
     "input": [
      "len(alive)"
     ],
     "language": "python",
     "metadata": {},
     "outputs": [
      {
       "metadata": {},
       "output_type": "pyout",
       "prompt_number": 101,
       "text": [
        "512"
       ]
      }
     ],
     "prompt_number": 101
    },
    {
     "cell_type": "code",
     "collapsed": false,
     "input": [
      "cfm.likelihood_method(alive, crof_params=(Np, mup, kp))"
     ],
     "language": "python",
     "metadata": {},
     "outputs": [
      {
       "metadata": {},
       "output_type": "pyout",
       "prompt_number": 112,
       "text": [
        "(10, 1, 3.5466131391089579, -1.4216017580369553)"
       ]
      }
     ],
     "prompt_number": 112
    },
    {
     "cell_type": "code",
     "collapsed": false,
     "input": [
      "cfm.w2_method(alive, [0, 1, 2, 3, 4, 5, 6, 7, 8, 9, np.max(alive) + 0.9], [], no_bins=False, crof_params=(1000, 10, 1))"
     ],
     "language": "python",
     "metadata": {},
     "outputs": [
      {
       "metadata": {},
       "output_type": "pyout",
       "prompt_number": 113,
       "text": [
        "((1000, 10, 1, 2.2861184890745849, -1.0393174106708436),\n",
        " array([ 85,  64,  57,  47,  47,  42,  29,  33,  24, 143]),\n",
        " [90.909090909090892,\n",
        "  75.018250777317235,\n",
        "  62.146686533875567,\n",
        "  51.804547231969366,\n",
        "  43.438674441104489,\n",
        "  36.618348016834013,\n",
        "  31.016246528040316,\n",
        "  26.38312253171026,\n",
        "  22.527604286182545,\n",
        "  148.62732674489837],\n",
        " [array([0]),\n",
        "  array([1]),\n",
        "  array([2]),\n",
        "  array([3]),\n",
        "  array([4]),\n",
        "  array([5]),\n",
        "  array([6]),\n",
        "  array([7]),\n",
        "  array([8]),\n",
        "  array([  9.,  10.,  11.,  12.,  13.,  14.,  15.,  16.,  17.,  18.,  19.,\n",
        "          20.,  21.,  22.,  23.,  24.,  25.,  26.,  27.,  28.,  29.,  30.,\n",
        "          31.,  32.,  33.,  34.,  35.,  36.,  37.,  38.,  39.,  40.,  41.,\n",
        "          42.,  43.,  44.,  45.,  46.,  47.,  48.,  49.,  50.,  51.,  52.,\n",
        "          53.,  54.,  55.,  56.,  57.,  58.,  59.,  60.,  61.])])"
       ]
      }
     ],
     "prompt_number": 113
    },
    {
     "cell_type": "code",
     "collapsed": false,
     "input": [
      "cfm.adjei_fitting_method(alive, [], [], no_bins=True, crof_params=(Np, mup, kp))"
     ],
     "language": "python",
     "metadata": {},
     "outputs": [
      {
       "metadata": {},
       "output_type": "pyout",
       "prompt_number": 114,
       "text": [
        "((1000, 10, 1, 1.9240244995550708, -0.89510342467358672),\n",
        "     emp  para  pred  emp_pure\n",
        " 1    64     1    83        64\n",
        " 2    57     2    75        57\n",
        " 3    47     3    68        47\n",
        " 4    47     4    62        47\n",
        " 5    42     5    56        42\n",
        " 6    29     6    51        29\n",
        " 7    33     7    47        33\n",
        " 8    24     8    42        24\n",
        " 9    21     9    39        21\n",
        " 10   23    10    35        23\n",
        " 11    8    11    32         8\n",
        " 12    8    12    29         8\n",
        " 13   19    13    26        19\n",
        " 14    5    14    24         5\n",
        " 15    7    15    22         7\n",
        " 16    8    16    20         8\n",
        " 17    3    17    18         3\n",
        " 18    2    18    16         2\n",
        " 19    2    19    15         2\n",
        " 20    8    20    14         8\n",
        " 21    3    21    12         3\n",
        " 22    3    22    11         3\n",
        " 23    6    23    10         6\n",
        " 24    1    24     9         1\n",
        " 25    3    25     8         3\n",
        " 26    2    26     8         2\n",
        " 27    1    27     7         1\n",
        " 28    1    28     6         1\n",
        " 29    2    29     6         2\n",
        " 30    1    30     5         1\n",
        " 31    1    31     5         1\n",
        " 32    2    32     4         2\n",
        " 33    0    33     4         0\n",
        " 34    0    34     4         0\n",
        " 35    1    35     3         1\n",
        " 36    0    36     3         0\n",
        " 37    0    37     3         0\n",
        " 38    0    38     2         0\n",
        " 39    0    39     2         0\n",
        " 40    0    40     2         0\n",
        " 41    0    41     2         0\n",
        " 42    0    42     2         0\n",
        " 43    0    43     2         0\n",
        " 44    0    44     1         0\n",
        " 45    0    45     1         0\n",
        " 46    0    46     1         0\n",
        " 47    0    47     1         0\n",
        " 48    0    48     1         0\n",
        " 49    0    49     1         0\n",
        " 50    0    50     1         0\n",
        " 51    0    51     1         0\n",
        " 52    0    52     1         0\n",
        " 53    0    53     1         0\n",
        " 54    1    54     1         1)"
       ]
      }
     ],
     "prompt_number": 114
    },
    {
     "cell_type": "code",
     "collapsed": false,
     "input": [
      "vals = np.arange(0, 1000)\n",
      "1 - (np.sum(cfm.surv_prob(vals, res[-2], res[-1]) * cfm.mod.nbinom(res[0], res[1]).pmf(vals)) \\\n",
      "                            / np.sum(cfm.mod.nbinom(res[0], res[1]).pmf(vals)))"
     ],
     "language": "python",
     "metadata": {},
     "outputs": [
      {
       "metadata": {},
       "output_type": "pyout",
       "prompt_number": 48,
       "text": [
        "0.31684141712271618"
       ]
      }
     ],
     "prompt_number": 48
    },
    {
     "cell_type": "code",
     "collapsed": false,
     "input": [
      "res_crof = cfm.crofton_method(alive, [0, 1, 2, 3, 4,])"
     ],
     "language": "python",
     "metadata": {},
     "outputs": [],
     "prompt_number": 74
    },
    {
     "cell_type": "code",
     "collapsed": false,
     "input": [
      "res_crof"
     ],
     "language": "python",
     "metadata": {},
     "outputs": [
      {
       "metadata": {},
       "output_type": "pyout",
       "prompt_number": 75,
       "text": [
        "(array([  5.02347561e+04,   1.00811689e+04,   8.09571909e-01]),\n",
        " array([26, 17, 13, 21]),\n",
        " [24.298098363297118,\n",
        "  19.669478307086102,\n",
        "  17.795238649339034,\n",
        "  16.664329304739699],\n",
        " [array([0]), array([1]), array([2]), array([ 3.])],\n",
        " 2.901700237599349)"
       ]
      }
     ],
     "prompt_number": 75
    },
    {
     "cell_type": "code",
     "collapsed": false,
     "input": [
      "len(alive) / res_crof[0][0]"
     ],
     "language": "python",
     "metadata": {},
     "outputs": [
      {
       "metadata": {},
       "output_type": "pyout",
       "prompt_number": 73,
       "text": [
        "0.0014714492763993495"
       ]
      }
     ],
     "prompt_number": 73
    }
   ],
   "metadata": {}
  }
 ]
}