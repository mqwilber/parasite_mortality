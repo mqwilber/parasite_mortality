{
 "cells": [
  {
   "cell_type": "code",
   "execution_count": 1,
   "metadata": {
    "collapsed": false
   },
   "outputs": [
    {
     "name": "stdout",
     "output_type": "stream",
     "text": [
      "Couldn't import dot_parser, loading of dot files will not be possible.\n",
      "Populating the interactive namespace from numpy and matplotlib\n"
     ]
    }
   ],
   "source": [
    "import crofton_method as cfm\n",
    "import pandas as pd\n",
    "%pylab inline"
   ]
  },
  {
   "cell_type": "code",
   "execution_count": 115,
   "metadata": {
    "collapsed": false
   },
   "outputs": [],
   "source": [
    "alive_hosts, init_pop, td = cfm.get_alive_and_dead(300, 30, -10, 1, 30)"
   ]
  },
  {
   "cell_type": "code",
   "execution_count": 116,
   "metadata": {
    "collapsed": false
   },
   "outputs": [
    {
     "data": {
      "text/plain": [
       "152"
      ]
     },
     "execution_count": 116,
     "metadata": {},
     "output_type": "execute_result"
    }
   ],
   "source": [
    "len(alive_hosts)"
   ]
  },
  {
   "cell_type": "code",
   "execution_count": 107,
   "metadata": {
    "collapsed": false
   },
   "outputs": [
    {
     "data": {
      "text/plain": [
       "(array([  2.04449392e+06,   3.33736579e+05,   9.75828146e-01]),\n",
       " array([10,  3,  5, 12,  8,  8,  8,  4,  5,  4, 50]),\n",
       " [8.1343319478501463,\n",
       "  7.937686854596528,\n",
       "  7.8417296220925339,\n",
       "  7.7785238303690907,\n",
       "  7.731495888377113,\n",
       "  7.694096473349374,\n",
       "  7.6630773042023499,\n",
       "  7.6365934344270183,\n",
       "  7.6134973453098613,\n",
       "  7.593027105262836,\n",
       "  45.223272520137215],\n",
       " [array([0]),\n",
       "  array([1]),\n",
       "  array([2]),\n",
       "  array([3]),\n",
       "  array([4]),\n",
       "  array([5]),\n",
       "  array([6]),\n",
       "  array([7]),\n",
       "  array([8]),\n",
       "  array([9]),\n",
       "  array([ 10.,  11.,  12.,  13.,  14.,  15.])],\n",
       " 11.690234315781732)"
      ]
     },
     "execution_count": 107,
     "metadata": {},
     "output_type": "execute_result"
    }
   ],
   "source": [
    "cfm.crofton_method(alive_hosts, [0, 1, 2, 3, 4, 5, 6, 7, 8, 9, 10, 15.1])"
   ]
  },
  {
   "cell_type": "code",
   "execution_count": 121,
   "metadata": {
    "collapsed": false
   },
   "outputs": [
    {
     "name": "stdout",
     "output_type": "stream",
     "text": [
      "Optimization terminated successfully.\n",
      "         Current function value: 472.616445\n",
      "         Iterations: 202\n",
      "         Function evaluations: 348\n"
     ]
    },
    {
     "data": {
      "text/plain": [
       "(11.927264556963316,\n",
       " 1.0926500725209247,\n",
       " 36.567887318671069,\n",
       " -11.501592920800874)"
      ]
     },
     "execution_count": 121,
     "metadata": {},
     "output_type": "execute_result"
    }
   ],
   "source": [
    "cfm.likelihood_method(alive_hosts, max_sum=1000)"
   ]
  },
  {
   "cell_type": "code",
   "execution_count": 125,
   "metadata": {
    "collapsed": false
   },
   "outputs": [
    {
     "name": "stdout",
     "output_type": "stream",
     "text": [
      "(8.25, 1.514141414141414)\n"
     ]
    },
    {
     "data": {
      "text/plain": [
       "477.42801963487614"
      ]
     },
     "execution_count": 125,
     "metadata": {},
     "output_type": "execute_result"
    }
   ],
   "source": [
    "import macroeco.models as mod\n",
    "import macroeco.compare as comp\n",
    "mle_fit = mod.nbinom.fit_mle(alive_hosts, k_array=np.linspace(.9, 1.7, 100))\n",
    "print mle_fit\n",
    "comp.nll(alive_hosts, mod.nbinom(*mle_fit))"
   ]
  },
  {
   "cell_type": "code",
   "execution_count": 126,
   "metadata": {
    "collapsed": false
   },
   "outputs": [
    {
     "data": {
      "text/plain": [
       "9.620000000000005"
      ]
     },
     "execution_count": 126,
     "metadata": {},
     "output_type": "execute_result"
    }
   ],
   "source": [
    "2*(-472.61 - (-477.42))"
   ]
  },
  {
   "cell_type": "code",
   "execution_count": 129,
   "metadata": {
    "collapsed": false
   },
   "outputs": [
    {
     "data": {
      "text/plain": [
       "0.0082297470490200284"
      ]
     },
     "execution_count": 129,
     "metadata": {},
     "output_type": "execute_result"
    }
   ],
   "source": [
    "import scipy.stats as stats\n",
    "stats.chisqprob(9.6, 2)"
   ]
  },
  {
   "cell_type": "code",
   "execution_count": 104,
   "metadata": {
    "collapsed": false
   },
   "outputs": [
    {
     "data": {
      "text/plain": [
       "[<matplotlib.lines.Line2D at 0x10ce20e50>]"
      ]
     },
     "execution_count": 104,
     "metadata": {},
     "output_type": "execute_result"
    },
    {
     "data": {
      "image/png": "[encoded data removed]",
      "text/plain": [
       "<matplotlib.figure.Figure at 0x10cd56490>"
      ]
     },
     "metadata": {},
     "output_type": "display_data"
    }
   ],
   "source": [
    "vals = np.linspace(0, 100, 100)\n",
    "#plot(vals, cfm.surv_prob(vals, 30, 0))\n",
    "y = cfm.surv_prob(vals, 30, 0)\n",
    "plot(vals,  y.round())"
   ]
  },
  {
   "cell_type": "code",
   "execution_count": 134,
   "metadata": {
    "collapsed": false
   },
   "outputs": [
    {
     "data": {
      "text/plain": [
       "[array([[1, 2, 2]]), array([[2],\n",
       "        [3]])]"
      ]
     },
     "execution_count": 134,
     "metadata": {},
     "output_type": "execute_result"
    }
   ],
   "source": [
    "np.meshgrid([1,2,2], [2,3], sparse=True)"
   ]
  },
  {
   "cell_type": "code",
   "execution_count": 3,
   "metadata": {
    "collapsed": false
   },
   "outputs": [],
   "source": [
    "para_crof = np.arange(0, 9)\n",
    "\n",
    "# Data from Crofton 1971\n",
    "st1_obs = np.array([161, 111, 67, 65, 50, 30, 33, 13, 8])\n",
    "st2_obs = np.array([189, 129, 86, 51, 27, 14, 8, 1, 2])\n",
    "st3_obs = np.array([458, 81, 40, 22, 19, 4, 6, 3, 0])\n",
    "st4_obs = np.array([164, 147, 92, 43, 25, 11, 3, 0, 1])\n",
    "st5_obs = np.array([140, 77, 30, 14, 10, 3, 2, 0, 0])\n",
    "st6_obs = np.array([153, 29, 6, 2, 1, 0, 0, 0, 0])\n",
    "\n",
    "# Raw data\n",
    "st1_raw = np.repeat(para_crof, st1_obs)\n",
    "st2_raw = np.repeat(para_crof, st2_obs)\n",
    "st3_raw = np.repeat(para_crof, st3_obs)\n",
    "st4_raw = np.repeat(para_crof, st4_obs)\n",
    "st5_raw = np.repeat(para_crof, st5_obs)\n",
    "st6_raw = np.repeat(para_crof, st6_obs)"
   ]
  },
  {
   "cell_type": "code",
   "execution_count": 33,
   "metadata": {
    "collapsed": false
   },
   "outputs": [
    {
     "name": "stdout",
     "output_type": "stream",
     "text": [
      "Optimization terminated successfully.\n",
      "         Current function value: 123.974744\n",
      "         Iterations: 321\n",
      "         Function evaluations: 587\n"
     ]
    },
    {
     "data": {
      "text/plain": [
       "(0.4646068793377367,\n",
       " 0.79270554849941288,\n",
       " 123.97474400857544,\n",
       " 124.20704744824431)"
      ]
     },
     "execution_count": 33,
     "metadata": {},
     "output_type": "execute_result"
    }
   ],
   "source": [
    "reload(cfm)\n",
    "cfm.test_for_pihm(st6_raw)"
   ]
  },
  {
   "cell_type": "code",
   "execution_count": 34,
   "metadata": {
    "collapsed": true
   },
   "outputs": [],
   "source": [
    "# Specify the Adjei Method Data\n",
    "st_females = np.repeat((0, 1, 2, 3, 4, 5, 6, 7),\n",
    "                        (201, 114, 63, 37, 19, 5, 3, 4))\n",
    "st_males = np.repeat((0, 1, 2, 3, 4, 5), (226, 128, 62, 30, 3, 3))\n",
    "\n",
    "su_females = np.repeat(np.arange(0, 8), (2311, 180, 66, 8, 5, 2, 0, 1))\n",
    "su_males = np.repeat((0, 1, 2, 3, 4), (2257, 146, 29, 7, 1))"
   ]
  },
  {
   "cell_type": "code",
   "execution_count": 56,
   "metadata": {
    "collapsed": false
   },
   "outputs": [],
   "source": [
    "run test_adjei_method.py"
   ]
  },
  {
   "cell_type": "code",
   "execution_count": 58,
   "metadata": {
    "collapsed": false
   },
   "outputs": [
    {
     "data": {
      "text/plain": [
       "((2622.9426847444111,\n",
       "  0.22605501816652276,\n",
       "  0.11883276860280909,\n",
       "  1.4757798762519285,\n",
       "  -2.5523213284602941),\n",
       "    emp  para  pred  emp_pure\n",
       " 1  146     1   180       146\n",
       " 2   29     2    66        29\n",
       " 3    7     3    31         7\n",
       " 4    1     4    16         1)"
      ]
     },
     "execution_count": 58,
     "metadata": {},
     "output_type": "execute_result"
    }
   ],
   "source": [
    "su_male_fit"
   ]
  },
  {
   "cell_type": "code",
   "execution_count": 67,
   "metadata": {
    "collapsed": false
   },
   "outputs": [
    {
     "name": "stdout",
     "output_type": "stream",
     "text": [
      "Optimization terminated successfully.\n",
      "         Current function value: 765.216787\n",
      "         Iterations: 51\n",
      "         Function evaluations: 98\n"
     ]
    },
    {
     "data": {
      "text/plain": [
       "(0.226, 0.11, 2.1372665251577958, -3.2725414521668723)"
      ]
     },
     "execution_count": 67,
     "metadata": {},
     "output_type": "execute_result"
    }
   ],
   "source": [
    "reload(cfm)\n",
    "cfm.likelihood_method(su_males, crof_params=(2622, 0.226, 0.11), guess=[4, -1])"
   ]
  },
  {
   "cell_type": "code",
   "execution_count": 68,
   "metadata": {
    "collapsed": false
   },
   "outputs": [
    {
     "name": "stdout",
     "output_type": "stream",
     "text": [
      "Optimization terminated successfully.\n",
      "         Current function value: 771.001928\n",
      "         Iterations: 49\n",
      "         Function evaluations: 134\n"
     ]
    },
    {
     "data": {
      "text/plain": [
       "(-426.48866070140571, 1.0, 771.0019278811202, 557.75759753041734)"
      ]
     },
     "execution_count": 68,
     "metadata": {},
     "output_type": "execute_result"
    }
   ],
   "source": [
    "reload(cfm)\n",
    "cfm.test_for_pihm(st_males, guess=[20, -10], crof_params=(2622, 0.226, 0.11))"
   ]
  },
  {
   "cell_type": "code",
   "execution_count": 13,
   "metadata": {
    "collapsed": false
   },
   "outputs": [
    {
     "name": "stdout",
     "output_type": "stream",
     "text": [
      "(1.3865877712031558, 1.7)\n"
     ]
    },
    {
     "data": {
      "text/plain": [
       "816.2348078373152"
      ]
     },
     "execution_count": 13,
     "metadata": {},
     "output_type": "execute_result"
    }
   ],
   "source": [
    "import macroeco.models as mod\n",
    "import macroeco.compare as comp\n",
    "mle_fit = mod.nbinom.fit_mle(st2_raw, k_array=np.linspace(.5, 1.7, 100))\n",
    "print mle_fit\n",
    "comp.nll(st2_raw, mod.nbinom(*mle_fit))"
   ]
  },
  {
   "cell_type": "code",
   "execution_count": 14,
   "metadata": {
    "collapsed": false
   },
   "outputs": [
    {
     "data": {
      "text/plain": [
       "3.3600000000001273"
      ]
     },
     "execution_count": 14,
     "metadata": {},
     "output_type": "execute_result"
    }
   ],
   "source": [
    "2*(-814.55 - (-816.23))"
   ]
  },
  {
   "cell_type": "code",
   "execution_count": 15,
   "metadata": {
    "collapsed": false
   },
   "outputs": [
    {
     "data": {
      "text/plain": [
       "0.18637397603940997"
      ]
     },
     "execution_count": 15,
     "metadata": {},
     "output_type": "execute_result"
    }
   ],
   "source": [
    "import scipy.stats as stats\n",
    "stats.chisqprob(3.36, 2)"
   ]
  },
  {
   "cell_type": "code",
   "execution_count": 7,
   "metadata": {
    "collapsed": false
   },
   "outputs": [
    {
     "data": {
      "text/plain": [
       "(array([ 723.33072124,    4.92003702,    0.72924414]),\n",
       " array([161, 111,  67, 115]),\n",
       " [162.53660583231635,\n",
       "  103.22842793987421,\n",
       "  77.732173396286072,\n",
       "  111.59541288428929],\n",
       " [array([0]), array([1]), array([2]), array([ 3.,  4.])],\n",
       " 2.1852281005363254)"
      ]
     },
     "execution_count": 7,
     "metadata": {},
     "output_type": "execute_result"
    }
   ],
   "source": [
    "cfm.crofton_method(st1_raw, [0, 1, 2, 3, 4.1])"
   ]
  },
  {
   "cell_type": "code",
   "execution_count": 2,
   "metadata": {
    "collapsed": false
   },
   "outputs": [
    {
     "data": {
      "text/plain": [
       "<module 'crofton_method' from 'crofton_method.py'>"
      ]
     },
     "execution_count": 2,
     "metadata": {},
     "output_type": "execute_result"
    }
   ],
   "source": [
    "reload(cfm)"
   ]
  },
  {
   "cell_type": "code",
   "execution_count": 10,
   "metadata": {
    "collapsed": true
   },
   "outputs": [],
   "source": [
    "alive, init, td = cfm.get_alive_and_dead(1000, 20, -10, 1, 10, other_death=True)\n",
    "\n",
    "alive = "
   ]
  },
  {
   "cell_type": "code",
   "execution_count": 11,
   "metadata": {
    "collapsed": false
   },
   "outputs": [
    {
     "name": "stdout",
     "output_type": "stream",
     "text": [
      "Optimization terminated successfully.\n",
      "         Current function value: 3265.770037\n",
      "         Iterations: 237\n",
      "         Function evaluations: 396\n"
     ]
    },
    {
     "data": {
      "text/plain": [
       "(10.490120078543805,\n",
       " 0.9553338402678323,\n",
       " 20.652051771351029,\n",
       " -5.3848460441451707)"
      ]
     },
     "execution_count": 11,
     "metadata": {},
     "output_type": "execute_result"
    }
   ],
   "source": [
    "cfm.likelihood_method(alive)"
   ]
  }
 ],
 "metadata": {
  "kernelspec": {
   "display_name": "Python 2",
   "language": "python",
   "name": "python2"
  },
  "language_info": {
   "codemirror_mode": {
    "name": "ipython",
    "version": 2
   },
   "file_extension": ".py",
   "mimetype": "text/x-python",
   "name": "python",
   "nbconvert_exporter": "python",
   "pygments_lexer": "ipython2",
   "version": "2.7.9"
  }
 },
 "nbformat": 4,
 "nbformat_minor": 0
}
