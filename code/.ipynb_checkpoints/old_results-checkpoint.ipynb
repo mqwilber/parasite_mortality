{
 "metadata": {
  "name": "",
  "signature": "sha256:0532d11933d819aec1a19a73433baf40a09c0379f839e0e111fac3330c4aeff8"
 },
 "nbformat": 3,
 "nbformat_minor": 0,
 "worksheets": []
}