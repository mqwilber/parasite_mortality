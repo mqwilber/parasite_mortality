{
 "cells": [
  {
   "cell_type": "code",
   "execution_count": 8,
   "metadata": {
    "collapsed": true
   },
   "outputs": [],
   "source": [
    "# Define my symbols\n",
    "from sympy import *\n",
    "a = Symbol(\"a\")\n",
    "b = Symbol(\"b\")\n",
    "x = Symbol(\"x\")"
   ]
  },
  {
   "cell_type": "code",
   "execution_count": 29,
   "metadata": {
    "collapsed": false
   },
   "outputs": [
    {
     "data": {
      "image/png": "[encoded data removed]",
      "text/latex": [
       "$$\\frac{b^{2}}{e^{a - b x} + 1} \\left(e^{a - b x} - \\frac{3 e^{2 a - 2 b x}}{e^{a - b x} + 1} + \\frac{2 e^{3 a - 3 b x}}{\\left(e^{a - b x} + 1\\right)^{2}}\\right)$$"
      ],
      "text/plain": [
       "   ⎛              2⋅a - 2⋅b⋅x       3⋅a - 3⋅b⋅x⎞\n",
       " 2 ⎜ a - b⋅x   3⋅ℯ               2⋅ℯ           ⎟\n",
       "b ⋅⎜ℯ        - ────────────── + ───────────────⎟\n",
       "   ⎜             a - b⋅x                      2⎟\n",
       "   ⎜            ℯ        + 1    ⎛ a - b⋅x    ⎞ ⎟\n",
       "   ⎝                            ⎝ℯ        + 1⎠ ⎠\n",
       "────────────────────────────────────────────────\n",
       "                   a - b⋅x                      \n",
       "                  ℯ        + 1                  "
      ]
     },
     "execution_count": 29,
     "metadata": {},
     "output_type": "execute_result"
    }
   ],
   "source": [
    "# Solve for the second derivative\n",
    "res2 = diff(exp(a - b * x) / (1 + exp(a - b * x)), x, 2)\n",
    "res2\n",
    "#simplify(res)"
   ]
  },
  {
   "cell_type": "code",
   "execution_count": 31,
   "metadata": {
    "collapsed": false
   },
   "outputs": [
    {
     "data": {
      "image/png": "[encoded data removed]",
      "text/latex": [
       "$$\\left [ \\frac{1}{b} \\log{\\left (e^{a} \\right )}\\right ]$$"
      ],
      "text/plain": [
       "⎡   ⎛ a⎞⎤\n",
       "⎢log⎝ℯ ⎠⎥\n",
       "⎢───────⎥\n",
       "⎣   b   ⎦"
      ]
     },
     "execution_count": 31,
     "metadata": {},
     "output_type": "execute_result"
    }
   ],
   "source": [
    "# Solve the second derivative for x at 0\n",
    "simplify(solve(res2, x))"
   ]
  },
  {
   "cell_type": "code",
   "execution_count": 25,
   "metadata": {
    "collapsed": false
   },
   "outputs": [
    {
     "data": {
      "image/png": "[encoded data removed]",
      "text/latex": [
       "$$- \\frac{b e^{a - b x}}{e^{a - b x} + 1} + \\frac{b e^{2 a - 2 b x}}{\\left(e^{a - b x} + 1\\right)^{2}}$$"
      ],
      "text/plain": [
       "      a - b⋅x        2⋅a - 2⋅b⋅x\n",
       "   b⋅ℯ            b⋅ℯ           \n",
       "- ──────────── + ───────────────\n",
       "   a - b⋅x                     2\n",
       "  ℯ        + 1   ⎛ a - b⋅x    ⎞ \n",
       "                 ⎝ℯ        + 1⎠ "
      ]
     },
     "execution_count": 25,
     "metadata": {},
     "output_type": "execute_result"
    }
   ],
   "source": [
    "res1 = diff(exp(a - b * x) / (1 + exp(a - b * x)), x, 1)\n"
   ]
  },
  {
   "cell_type": "code",
   "execution_count": 10,
   "metadata": {
    "collapsed": false
   },
   "outputs": [],
   "source": [
    "import numpy as np"
   ]
  },
  {
   "cell_type": "code",
   "execution_count": 26,
   "metadata": {
    "collapsed": true
   },
   "outputs": [],
   "source": [
    "func2 = lambda x, a, b: (b**2 / (np.exp(a - b * x) + 1)) * (np.exp(a - b * x) - ((3 * np.exp(2 * a - 2*b * x)) / \n",
    "                                            ((np.exp(a - b*x) + 1))) + \n",
    "                                            ((2 * np.exp(3*a - 3 * b * x)) / \n",
    "                                             (np.exp(a - b*x) + 1)**2))"
   ]
  },
  {
   "cell_type": "code",
   "execution_count": 15,
   "metadata": {
    "collapsed": false
   },
   "outputs": [],
   "source": [
    "import scipy.optimize as opt"
   ]
  },
  {
   "cell_type": "code",
   "execution_count": 27,
   "metadata": {
    "collapsed": false
   },
   "outputs": [
    {
     "data": {
      "image/png": "[encoded data removed]",
      "text/latex": [
       "$$0.6$$"
      ],
      "text/plain": [
       "0.6"
      ]
     },
     "execution_count": 27,
     "metadata": {},
     "output_type": "execute_result"
    }
   ],
   "source": [
    "opt.brentq(func2, 0, 2, args=(3, 5))"
   ]
  },
  {
   "cell_type": "code",
   "execution_count": 21,
   "metadata": {
    "collapsed": false
   },
   "outputs": [
    {
     "data": {
      "image/png": "[encoded data removed]",
      "text/latex": [
       "$$0.0$$"
      ],
      "text/plain": [
       "0.0"
      ]
     },
     "execution_count": 21,
     "metadata": {},
     "output_type": "execute_result"
    }
   ],
   "source": []
  }
 ],
 "metadata": {
  "kernelspec": {
   "display_name": "Python 2",
   "language": "python",
   "name": "python2"
  },
  "language_info": {
   "codemirror_mode": {
    "name": "ipython",
    "version": 2
   },
   "file_extension": ".py",
   "mimetype": "text/x-python",
   "name": "python",
   "nbconvert_exporter": "python",
   "pygments_lexer": "ipython2",
   "version": "2.7.9"
  }
 },
 "nbformat": 4,
 "nbformat_minor": 0
}
